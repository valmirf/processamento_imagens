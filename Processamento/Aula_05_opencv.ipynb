{
  "nbformat": 4,
  "nbformat_minor": 0,
  "metadata": {
    "kernelspec": {
      "name": "python36",
      "display_name": "Python 3.6",
      "language": "python"
    },
    "language_info": {
      "mimetype": "text/x-python",
      "nbconvert_exporter": "python",
      "name": "python",
      "pygments_lexer": "ipython3",
      "version": "3.6.6",
      "file_extension": ".py",
      "codemirror_mode": {
        "version": 3,
        "name": "ipython"
      }
    },
    "colab": {
      "name": "Aula_05_opencv.ipynb",
      "provenance": [],
      "collapsed_sections": [],
      "include_colab_link": true
    }
  },
  "cells": [
    {
      "cell_type": "markdown",
      "metadata": {
        "id": "view-in-github",
        "colab_type": "text"
      },
      "source": [
        "<a href=\"https://colab.research.google.com/github/valmirf/processamento_imagens/blob/master/Processamento/Aula_05_opencv.ipynb\" target=\"_parent\"><img src=\"https://colab.research.google.com/assets/colab-badge.svg\" alt=\"Open In Colab\"/></a>"
      ]
    },
    {
      "cell_type": "markdown",
      "metadata": {
        "collapsed": true,
        "id": "-zcEewlxd6LO",
        "colab_type": "text"
      },
      "source": [
        "# Opencv - Aula 5"
      ]
    },
    {
      "cell_type": "markdown",
      "metadata": {
        "id": "mkDPFJZGd6LS",
        "colab_type": "text"
      },
      "source": [
        "Imports necessários"
      ]
    },
    {
      "cell_type": "code",
      "metadata": {
        "id": "a2MFh-aUa_Oe",
        "colab_type": "code",
        "colab": {}
      },
      "source": [
        "!git clone https://github.com/valmirf/processamento_imagens.git"
      ],
      "execution_count": 0,
      "outputs": []
    },
    {
      "cell_type": "code",
      "metadata": {
        "trusted": true,
        "id": "6mPZgrfad6LT",
        "colab_type": "code",
        "colab": {}
      },
      "source": [
        "#!pip install opencv-python\n",
        "import cv2\n",
        "import numpy as np\n",
        "%matplotlib inline\n",
        "from matplotlib import pyplot as plt"
      ],
      "execution_count": 0,
      "outputs": []
    },
    {
      "cell_type": "markdown",
      "metadata": {
        "id": "MBi74g0Ad6Ld",
        "colab_type": "text"
      },
      "source": [
        "## 1. Detecção de Bordas"
      ]
    },
    {
      "cell_type": "markdown",
      "metadata": {
        "id": "visDgCKid6Ll",
        "colab_type": "text"
      },
      "source": [
        "### 1.2 Filtro com Máscaras de Derivadas\n"
      ]
    },
    {
      "cell_type": "code",
      "metadata": {
        "trusted": true,
        "id": "BZ4CjIybd6Ln",
        "colab_type": "code",
        "colab": {}
      },
      "source": [
        "img = cv2.imread('processamento_imagens/imagens/0699.jpg')\n",
        "#print(logo)\n",
        "kernel = np.array([[-1,-1,-1],[-1,8,-1],[-1,-1,-1]])  #máscara filtro de pontos\n",
        "\n",
        "dst_img = cv2.filter2D(img,-1,kernel) #filtragem\n",
        "\n",
        "\n",
        "fig, axes = plt.subplots(1, 2, figsize=(12, 8))\n",
        "ax = axes.ravel()\n",
        "\n",
        "ax[0].imshow(cv2.cvtColor(img, cv2.COLOR_BGR2RGB), cmap='gray')\n",
        "ax[0].set_title('Original')\n",
        "ax[0].set_axis_off()\n",
        "\n",
        "ax[1].imshow(dst_img, cmap='gray')\n",
        "ax[1].set_title('Imagem Filtrada')\n",
        "ax[1].set_axis_off()"
      ],
      "execution_count": 0,
      "outputs": []
    },
    {
      "cell_type": "markdown",
      "metadata": {
        "id": "ERzHVbrrd6Ly",
        "colab_type": "text"
      },
      "source": [
        "### 1.2 Lapraciano"
      ]
    },
    {
      "cell_type": "code",
      "metadata": {
        "trusted": true,
        "id": "mBSPw88td6L0",
        "colab_type": "code",
        "colab": {}
      },
      "source": [
        "blurGaussian = cv2.GaussianBlur(img,(3,3),0)  #Filtro da Gaussiana\n",
        "\n",
        "laplacian = cv2.Laplacian(blurGaussian,cv2.CV_64F)  # Filtro Laplaciano\n",
        "# converting back to uint8\n",
        "abs_dst = cv2.convertScaleAbs(laplacian)\n",
        "\n",
        "fig, axes = plt.subplots(1, 2, figsize=(12, 8))\n",
        "ax = axes.ravel()\n",
        "\n",
        "ax[0].imshow(cv2.cvtColor(img, cv2.COLOR_BGR2RGB))\n",
        "ax[0].set_title('Original')\n",
        "ax[0].set_axis_off()\n",
        "\n",
        "ax[1].imshow(abs_dst, cmap='gray')\n",
        "ax[1].set_title('Lapraciano da Gaussiana')\n",
        "ax[1].set_axis_off()"
      ],
      "execution_count": 0,
      "outputs": []
    },
    {
      "cell_type": "markdown",
      "metadata": {
        "id": "nOB-XfiDd6Le",
        "colab_type": "text"
      },
      "source": [
        "### 1.3 Canny"
      ]
    },
    {
      "cell_type": "code",
      "metadata": {
        "trusted": true,
        "id": "K018MGbjd6Lg",
        "colab_type": "code",
        "colab": {}
      },
      "source": [
        "img = cv2.imread('processamento_imagens/imagens/image_0089.jpg',0)\n",
        "edges = cv2.Canny(img,100,200)\n",
        "\n",
        "fig, axes = plt.subplots(1, 2, figsize=(12, 8))\n",
        "ax = axes.ravel()\n",
        "\n",
        "ax[0].imshow(img, cmap='gray')\n",
        "ax[0].set_title('Original')\n",
        "ax[0].set_axis_off()\n",
        "\n",
        "ax[1].imshow(edges, cmap='gray')\n",
        "ax[1].set_title('Canny')\n",
        "ax[1].set_axis_off()\n",
        "\n",
        "#plotar\n",
        "#plt.figure(figsize=(6, 6), dpi= 80, facecolor='w', edgecolor='k')\n",
        "#plt.axis(\"off\")\n",
        "#plt.imshow(edges, cmap='gray')"
      ],
      "execution_count": 0,
      "outputs": []
    },
    {
      "cell_type": "markdown",
      "metadata": {
        "id": "bBKFa_X1d6L5",
        "colab_type": "text"
      },
      "source": [
        "### 1.4 Transformada de hough"
      ]
    },
    {
      "cell_type": "code",
      "metadata": {
        "trusted": true,
        "id": "Q1INN3dzd6L6",
        "colab_type": "code",
        "colab": {}
      },
      "source": [
        "img = cv2.imread('processamento_imagens/imagens/dave.png')\n",
        "imgOut = img.copy()\n",
        "gray = cv2.cvtColor(img,cv2.COLOR_BGR2GRAY)\n",
        "edges = cv2.Canny(gray,50,150,apertureSize = 3)\n",
        "\n",
        "lines = cv2.HoughLines(edges,1,np.pi/180,200)\n",
        "for i in range(len(lines)): \n",
        "    for rho,theta in lines[i]:\n",
        "        a = np.cos(theta)\n",
        "        b = np.sin(theta)\n",
        "        x0 = a*rho\n",
        "        y0 = b*rho\n",
        "        x1 = int(x0 + 1000*(-b))\n",
        "        y1 = int(y0 + 1000*(a))\n",
        "        x2 = int(x0 - 1000*(-b))\n",
        "        y2 = int(y0 - 1000*(a))\n",
        "        cv2.line(imgOut,(x1,y1),(x2,y2),(0,0,255),2)\n",
        "\n",
        "fig, axes = plt.subplots(1, 2, figsize=(12, 8))\n",
        "ax = axes.ravel()\n",
        "\n",
        "ax[0].imshow(img, cmap='gray')\n",
        "ax[0].set_title('Original')\n",
        "ax[0].set_axis_off()\n",
        "\n",
        "ax[1].imshow(imgOut, cmap='gray')\n",
        "ax[1].set_title('Hough')\n",
        "ax[1].set_axis_off()"
      ],
      "execution_count": 0,
      "outputs": []
    },
    {
      "cell_type": "markdown",
      "metadata": {
        "id": "VDpOArGQd6MF",
        "colab_type": "text"
      },
      "source": [
        "## 2. Segmentação"
      ]
    },
    {
      "cell_type": "markdown",
      "metadata": {
        "id": "xC7dRFr6d6Mh",
        "colab_type": "text"
      },
      "source": [
        "### 2.4 Componentes Conexos"
      ]
    },
    {
      "cell_type": "code",
      "metadata": {
        "trusted": true,
        "id": "KYcjwOUVd6Mi",
        "colab_type": "code",
        "colab": {}
      },
      "source": [
        "img4 = cv2.imread('processamento_imagens/imagens/letras.png', 0)\n",
        "img4 = cv2.threshold(img4, 127, 255, cv2.THRESH_BINARY)[1]  # imagem binária\n",
        "#img4 = cv2.bitwise_not(img4)  # imagem negativada, objeto de interesse precisa ser branco\n",
        "ret, labels = cv2.connectedComponents(img4)\n",
        "\n",
        "# Associa os rótulos a cores \n",
        "label_hue = np.uint8(179*labels/np.max(labels))\n",
        "blank_ch = 255*np.ones_like(label_hue)\n",
        "labeled_img = cv2.merge([label_hue, blank_ch, blank_ch])\n",
        "\n",
        "# HSV para BGR\n",
        "labeled_img = cv2.cvtColor(labeled_img, cv2.COLOR_HSV2BGR)\n",
        "\n",
        "# Associa o fundo a cor preta\n",
        "labeled_img[label_hue==0] = 0\n",
        "\n",
        "fig, axes = plt.subplots(1, 2, figsize=(15, 8))\n",
        "ax = axes.ravel()\n",
        "\n",
        "ax[0].imshow(img4, cmap='gray')\n",
        "ax[0].set_title('Original')\n",
        "ax[0].set_axis_off()\n",
        "\n",
        "ax[1].imshow(cv2.cvtColor(labeled_img, cv2.COLOR_BGR2RGB))\n",
        "ax[1].set_title('Saída')\n",
        "ax[1].set_axis_off()\n"
      ],
      "execution_count": 0,
      "outputs": []
    },
    {
      "cell_type": "markdown",
      "metadata": {
        "id": "Jrb7CaAfd6MV",
        "colab_type": "text"
      },
      "source": [
        "### 2.3 Watershed"
      ]
    },
    {
      "cell_type": "code",
      "metadata": {
        "trusted": true,
        "id": "mR-WB3-Zd6MX",
        "colab_type": "code",
        "colab": {}
      },
      "source": [
        "img3 = cv2.imread('processamento_imagens/imagens/water_coins.jpg')\n",
        "img3c = img3.copy()\n",
        "gray = cv2.cvtColor(img3,cv2.COLOR_BGR2GRAY)\n",
        "ret, thresh = cv2.threshold(gray,0,255,cv2.THRESH_BINARY_INV+cv2.THRESH_OTSU)\n",
        "\n",
        "# remove ruídos\n",
        "kernel = np.ones((3,3),np.uint8)\n",
        "opening = cv2.morphologyEx(thresh,cv2.MORPH_OPEN,kernel, iterations = 2)\n",
        "\n",
        "# Fundo da imagem\n",
        "sure_bg = cv2.dilate(opening,kernel,iterations=3)\n",
        "\n",
        "# Objetos da imagem\n",
        "dist_transform = cv2.distanceTransform(opening,cv2.DIST_L2,5)\n",
        "ret, sure_fg = cv2.threshold(dist_transform,0.7*dist_transform.max(),255,0)\n",
        "\n",
        "# Encontrando regiões desconhecidas\n",
        "sure_fg = np.uint8(sure_fg)\n",
        "unknown = cv2.subtract(sure_bg,sure_fg)\n",
        "\n",
        "# Rotulando a imagem\n",
        "ret, markers = cv2.connectedComponents(sure_fg)\n",
        "\n",
        "# Marca os objetos\n",
        "markers = markers+1\n",
        "\n",
        "# Regiões desconhecidas serão 0\n",
        "markers[unknown==255] = 0\n",
        "\n",
        "markers = cv2.watershed(img3,markers)\n",
        "img3[markers == -1] = [255,0,0]\n",
        "\n",
        "fig, axes = plt.subplots(1, 2, figsize=(12, 8))\n",
        "ax = axes.ravel()\n",
        "\n",
        "ax[0].imshow(opening, cmap='gray')\n",
        "ax[0].set_title('Imagem Binária')\n",
        "ax[0].set_axis_off()\n",
        "\n",
        "ax[1].imshow(markers, cmap='gray')\n",
        "ax[1].set_title('watershed')\n",
        "ax[1].set_axis_off()\n",
        "\n",
        "fig, axes = plt.subplots(1, 2, figsize=(12, 8))\n",
        "ax = axes.ravel()\n",
        "\n",
        "ax[0].imshow(cv2.cvtColor(img3c, cv2.COLOR_BGR2RGB))\n",
        "ax[0].set_title('Original')\n",
        "ax[0].set_axis_off()\n",
        "\n",
        "ax[1].imshow(cv2.cvtColor(img3, cv2.COLOR_BGR2RGB))\n",
        "ax[1].set_title('watershed')\n",
        "ax[1].set_axis_off()"
      ],
      "execution_count": 0,
      "outputs": []
    },
    {
      "cell_type": "markdown",
      "metadata": {
        "id": "-767Ta1Kd6MH",
        "colab_type": "text"
      },
      "source": [
        "### 2.1 Limiarização"
      ]
    },
    {
      "cell_type": "code",
      "metadata": {
        "trusted": true,
        "id": "hQ5Hn19-d6MI",
        "colab_type": "code",
        "colab": {}
      },
      "source": [
        "img = cv2.imread('processamento_imagens/imagens/dave.png',0)\n",
        "img = cv2.medianBlur(img,5)\n",
        "\n",
        "ret,th1 = cv2.threshold(img,127,255,cv2.THRESH_BINARY)\n",
        "th2 = cv2.adaptiveThreshold(img,255,cv2.ADAPTIVE_THRESH_MEAN_C, cv2.THRESH_BINARY,11,2)\n",
        "th3 = cv2.adaptiveThreshold(img,255,cv2.ADAPTIVE_THRESH_GAUSSIAN_C, cv2.THRESH_BINARY,11,2)\n",
        "#th3 = cv2.threshold(img,125,255,cv2.THRESH_BINARY+cv2.THRESH_OTSU) #OTSU\n",
        "\n",
        "titles = ['Original Image', 'Global Thresholding (v = 127)',\n",
        "            'Adaptive Mean Thresholding', 'Adaptive Gaussian Thresholding']\n",
        "images = [img, th1, th2, th3]\n",
        "\n",
        "fig, axes = plt.subplots(2, 2, figsize=(12, 8))\n",
        "ax = axes.ravel()\n",
        "for i in range(4):\n",
        "    ax[i].imshow(images[i], cmap='gray')\n",
        "    ax[i].set_title(titles[i])\n",
        "    ax[i].set_axis_off()"
      ],
      "execution_count": 0,
      "outputs": []
    },
    {
      "cell_type": "code",
      "metadata": {
        "trusted": true,
        "id": "si-k0IWGd6MM",
        "colab_type": "code",
        "colab": {}
      },
      "source": [
        ""
      ],
      "execution_count": 0,
      "outputs": []
    },
    {
      "cell_type": "markdown",
      "metadata": {
        "id": "q1TRRxF5d6MQ",
        "colab_type": "text"
      },
      "source": [
        "### 2.2 K-Means Clustering"
      ]
    },
    {
      "cell_type": "code",
      "metadata": {
        "trusted": true,
        "id": "Y8k5LHcEd6MS",
        "colab_type": "code",
        "colab": {}
      },
      "source": [
        "img2 = cv2.imread('processamento_imagens/imagens/boa_viagem.jpg')\n",
        "Z = img2.reshape((-1,3))\n",
        "\n",
        "# convert to np.float32\n",
        "Z = np.float32(Z)\n",
        "\n",
        "# define criteria, number of clusters(K) and apply kmeans()\n",
        "criteria = (cv2.TERM_CRITERIA_EPS + cv2.TERM_CRITERIA_MAX_ITER, 10, 1.0)\n",
        "K = 7\n",
        "ret,label,center=cv2.kmeans(Z,K,None,criteria,10,cv2.KMEANS_RANDOM_CENTERS)\n",
        "\n",
        "# Now convert back into uint8, and make original image\n",
        "center = np.uint8(center)\n",
        "res = center[label.flatten()]\n",
        "res2 = res.reshape((img2.shape))\n",
        "\n",
        "fig, axes = plt.subplots(1, 2, figsize=(15, 8))\n",
        "ax = axes.ravel()\n",
        "\n",
        "ax[0].imshow(cv2.cvtColor(img2, cv2.COLOR_BGR2RGB))\n",
        "ax[0].set_title('Original')\n",
        "ax[0].set_axis_off()\n",
        "\n",
        "ax[1].imshow(cv2.cvtColor(res2, cv2.COLOR_BGR2RGB))\n",
        "ax[1].set_title('k-means clustering')\n",
        "ax[1].set_axis_off()"
      ],
      "execution_count": 0,
      "outputs": []
    },
    {
      "cell_type": "markdown",
      "metadata": {
        "id": "7xVxHX_Zd6Mb",
        "colab_type": "text"
      },
      "source": [
        "### 2.3 MeanShift"
      ]
    },
    {
      "cell_type": "markdown",
      "metadata": {
        "id": "wABbubBbd6Mb",
        "colab_type": "text"
      },
      "source": [
        "#### Parâmetros:\t\n",
        "    src – Imagem original de 8-bits, 3-canais\n",
        "    dst – A imagem de destino com o mesmo formato e o mesmo           tamanho da imagem original.\n",
        "    sp –  O raio da janela espacial.\n",
        "    sr –  O raio da janela colorida.\n",
        "    maxLevel – Nível máximo para a segmentação.\n",
        "    termcrit – Critério de Parada"
      ]
    },
    {
      "cell_type": "code",
      "metadata": {
        "trusted": true,
        "id": "rTEiJQ1ud6Md",
        "colab_type": "code",
        "colab": {}
      },
      "source": [
        "meanshift = cv2.pyrMeanShiftFiltering(img2, sp=16, sr=32, maxLevel=1, \n",
        "                                      termcrit=(cv2.TERM_CRITERIA_EPS+cv2.TERM_CRITERIA_MAX_ITER, 5, 1))\n",
        "fig, axes = plt.subplots(1, 2, figsize=(15, 8))\n",
        "ax = axes.ravel()\n",
        "\n",
        "ax[0].imshow(cv2.cvtColor(img2, cv2.COLOR_BGR2RGB))#convertendo para RGB antes de plotar\n",
        "ax[0].set_title('Original')\n",
        "ax[0].set_axis_off()\n",
        "\n",
        "ax[1].imshow(cv2.cvtColor(meanshift, cv2.COLOR_BGR2RGB))#convertendo para RGB antes de plotar\n",
        "ax[1].set_title('MeanShift')\n",
        "ax[1].set_axis_off()"
      ],
      "execution_count": 0,
      "outputs": []
    },
    {
      "cell_type": "markdown",
      "metadata": {
        "id": "N0Jt_hlt6CJA",
        "colab_type": "text"
      },
      "source": [
        "# Exercícios\n",
        "\n",
        "## 1. Encontre a borda que divide o horizonte da imagem abaixo "
      ]
    },
    {
      "cell_type": "code",
      "metadata": {
        "id": "mp7AOpTC6TSU",
        "colab_type": "code",
        "colab": {}
      },
      "source": [
        "img1 = cv2.imread('processamento_imagens/imagens/boa_viagem.jpg')\n",
        "\n",
        "plt.figure(figsize=(6, 6), dpi= 80, facecolor='w', edgecolor='k')\n",
        "plt.axis(\"off\")\n",
        "plt.imshow(cv2.cvtColor(img1, cv2.COLOR_BGR2RGB))\n"
      ],
      "execution_count": 0,
      "outputs": []
    },
    {
      "cell_type": "markdown",
      "metadata": {
        "id": "Eq4-YhBY69bF",
        "colab_type": "text"
      },
      "source": [
        "## 2. Encontre a melhor estratégia para contar o número de mangas na imagem abaixo."
      ]
    },
    {
      "cell_type": "code",
      "metadata": {
        "id": "7fP1GhTC9Y5h",
        "colab_type": "code",
        "colab": {}
      },
      "source": [
        "img2 = cv2.imread('processamento_imagens/imagens/mangas.jpg')\n",
        "\n",
        "plt.figure(figsize=(6, 6), dpi= 80, facecolor='w', edgecolor='k')\n",
        "plt.axis(\"off\")\n",
        "plt.imshow(cv2.cvtColor(img2, cv2.COLOR_BGR2RGB))\n"
      ],
      "execution_count": 0,
      "outputs": []
    }
  ]
}