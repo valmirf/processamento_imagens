{
  "cells": [
    {
      "cell_type": "markdown",
      "metadata": {
        "id": "view-in-github",
        "colab_type": "text"
      },
      "source": [
        "<a href=\"https://colab.research.google.com/github/valmirf/processamento_imagens/blob/master/Segmentacao/Aula_05_Opencv_en.ipynb\" target=\"_parent\"><img src=\"https://colab.research.google.com/assets/colab-badge.svg\" alt=\"Open In Colab\"/></a>"
      ]
    },
    {
      "metadata": {
        "collapsed": true,
        "id": "DdnwRX47smEC"
      },
      "cell_type": "markdown",
      "source": [
        "# Opencv - Class 5"
      ]
    },
    {
      "cell_type": "code",
      "source": [
        "!git clone https://github.com/valmirf/processamento_imagens.git\n"
      ],
      "metadata": {
        "id": "qktxd7tFt411"
      },
      "execution_count": null,
      "outputs": []
    },
    {
      "metadata": {
        "id": "YAwKUls9smEQ"
      },
      "cell_type": "markdown",
      "source": [
        "Imports"
      ]
    },
    {
      "metadata": {
        "trusted": true,
        "id": "1wlvbnDGsmEV"
      },
      "cell_type": "code",
      "source": [
        "!pip install opencv-python\n",
        "import cv2\n",
        "import numpy as np\n",
        "%matplotlib inline\n",
        "from matplotlib import pyplot as plt"
      ],
      "execution_count": null,
      "outputs": []
    },
    {
      "metadata": {
        "id": "P2t3OdZUsmEm"
      },
      "cell_type": "markdown",
      "source": [
        "## 1. Edge Detection"
      ]
    },
    {
      "metadata": {
        "id": "WBr6GQaOsmEp"
      },
      "cell_type": "markdown",
      "source": [
        "### 1.1 Canny"
      ]
    },
    {
      "metadata": {
        "trusted": true,
        "id": "wreHkilqsmEs"
      },
      "cell_type": "code",
      "source": [
        "img = cv2.imread('processamento_imagens/imagens/mangas.jpg',0)\n",
        "edges = cv2.Canny(img,100,200)\n",
        "#plotar\n",
        "plt.figure(figsize=(6, 6), dpi= 80, facecolor='w', edgecolor='k')\n",
        "plt.axis(\"off\")\n",
        "plt.imshow(edges, cmap='gray')"
      ],
      "execution_count": null,
      "outputs": []
    },
    {
      "metadata": {
        "id": "5XxZ_Jv-smGG"
      },
      "cell_type": "markdown",
      "source": [
        "### 1.2 Sobel"
      ]
    },
    {
      "metadata": {
        "trusted": true,
        "id": "mOKQ1c5MsmIG"
      },
      "cell_type": "code",
      "source": [
        "# Output dtype = cv2.CV_8U\n",
        "sobelx = cv2.Sobel(img,cv2.CV_64F,1,0,ksize=5)\n",
        "sobely = cv2.Sobel(img,cv2.CV_64F,0,1,ksize=5)\n",
        "gradmag = np.sqrt(sobelx**2 + sobely**2)\n",
        "\n",
        "fig, axes = plt.subplots(1, 2, figsize=(12, 8))\n",
        "ax = axes.ravel()\n",
        "\n",
        "ax[0].imshow(img, cmap='gray')\n",
        "ax[0].set_title('Original')\n",
        "ax[0].set_axis_off()\n",
        "\n",
        "ax[1].imshow(gradmag, cmap='gray')\n",
        "ax[1].set_title('Sobel')\n",
        "ax[1].set_axis_off()"
      ],
      "execution_count": null,
      "outputs": []
    },
    {
      "metadata": {
        "id": "kBpBepScsmIH"
      },
      "cell_type": "markdown",
      "source": [
        "### 1.3 Lapracian"
      ]
    },
    {
      "metadata": {
        "trusted": true,
        "id": "CBNcANaTsmIJ"
      },
      "cell_type": "code",
      "source": [
        "laplacian = cv2.Laplacian(img,cv2.CV_64F)\n",
        "# converting back to uint8\n",
        "abs_dst = cv2.convertScaleAbs(laplacian)\n",
        "fig, axes = plt.subplots(1, 2, figsize=(12, 8))\n",
        "ax = axes.ravel()\n",
        "\n",
        "ax[0].imshow(img, cmap='gray')\n",
        "ax[0].set_title('Original')\n",
        "ax[0].set_axis_off()\n",
        "\n",
        "ax[1].imshow(abs_dst, cmap='gray')\n",
        "ax[1].set_title('Lapraciano')\n",
        "ax[1].set_axis_off()"
      ],
      "execution_count": null,
      "outputs": []
    },
    {
      "metadata": {
        "id": "s-NVLAzasmIL"
      },
      "cell_type": "markdown",
      "source": [
        "### 1.4 Hough Transform"
      ]
    },
    {
      "metadata": {
        "trusted": true,
        "id": "w-QUL63TsmIO"
      },
      "cell_type": "code",
      "source": [
        "img = cv2.imread('processamento_imagens/imagens/dave.png')\n",
        "imgOut = img.copy()\n",
        "gray = cv2.cvtColor(img,cv2.COLOR_BGR2GRAY)\n",
        "edges = cv2.Canny(gray,50,150,apertureSize = 3)\n",
        "\n",
        "lines = cv2.HoughLines(edges,1,np.pi/180,200)\n",
        "for i in range(len(lines)): \n",
        "    for rho,theta in lines[i]:\n",
        "        a = np.cos(theta)\n",
        "        b = np.sin(theta)\n",
        "        x0 = a*rho\n",
        "        y0 = b*rho\n",
        "        x1 = int(x0 + 1000*(-b))\n",
        "        y1 = int(y0 + 1000*(a))\n",
        "        x2 = int(x0 - 1000*(-b))\n",
        "        y2 = int(y0 - 1000*(a))\n",
        "        cv2.line(imgOut,(x1,y1),(x2,y2),(0,0,255),2)\n",
        "\n",
        "fig, axes = plt.subplots(1, 2, figsize=(12, 8))\n",
        "ax = axes.ravel()\n",
        "\n",
        "ax[0].imshow(img, cmap='gray')\n",
        "ax[0].set_title('Original')\n",
        "ax[0].set_axis_off()\n",
        "\n",
        "ax[1].imshow(imgOut, cmap='gray')\n",
        "ax[1].set_title('Hough')\n",
        "ax[1].set_axis_off()"
      ],
      "execution_count": null,
      "outputs": []
    },
    {
      "metadata": {
        "id": "gYksBjFesmIR"
      },
      "cell_type": "markdown",
      "source": [
        "#### 1.4.1 Probabilistic Hough Transformation"
      ]
    },
    {
      "metadata": {
        "trusted": true,
        "id": "MkaMKXnrsmQF"
      },
      "cell_type": "code",
      "source": [
        "imgOut2 = img.copy()\n",
        "gray = cv2.cvtColor(img,cv2.COLOR_BGR2GRAY)\n",
        "edges = cv2.Canny(gray,50,150,apertureSize = 3)\n",
        "minLineLength = 100\n",
        "maxLineGap = 10\n",
        "lines = cv2.HoughLinesP(edges,1,np.pi/180,100,minLineLength,maxLineGap)\n",
        "for i in range(len(lines)):\n",
        "    for x1,y1,x2,y2 in lines[i]:\n",
        "        cv2.line(imgOut2,(x1,y1),(x2,y2),(0,255,0),2)\n",
        "\n",
        "fig, axes = plt.subplots(1, 2, figsize=(12, 8))\n",
        "ax = axes.ravel()\n",
        "\n",
        "ax[0].imshow(img, cmap='gray')\n",
        "ax[0].set_title('Original')\n",
        "ax[0].set_axis_off()\n",
        "\n",
        "ax[1].imshow(imgOut2, cmap='gray')\n",
        "ax[1].set_title('Hough')\n",
        "ax[1].set_axis_off()"
      ],
      "execution_count": null,
      "outputs": []
    },
    {
      "metadata": {
        "id": "0EbbDqvjsmQW"
      },
      "cell_type": "markdown",
      "source": [
        "## 2. Segmentation"
      ]
    },
    {
      "metadata": {
        "id": "wVLlgth3smQY"
      },
      "cell_type": "markdown",
      "source": [
        "### 2.1 Limiarization"
      ]
    },
    {
      "metadata": {
        "trusted": true,
        "id": "3Dnej7yAsmQZ"
      },
      "cell_type": "code",
      "source": [
        "img = cv2.imread('processamento_imagens/imagens/dave.png',0)\n",
        "img = cv2.medianBlur(img,5)\n",
        "\n",
        "ret,th1 = cv2.threshold(img,127,255,cv2.THRESH_BINARY)\n",
        "th2 = cv2.adaptiveThreshold(img,255,cv2.ADAPTIVE_THRESH_MEAN_C, cv2.THRESH_BINARY,11,2)\n",
        "th3 = cv2.adaptiveThreshold(img,255,cv2.ADAPTIVE_THRESH_GAUSSIAN_C, cv2.THRESH_BINARY,11,2)\n",
        "#th3 = cv2.threshold(img,125,255,cv2.THRESH_BINARY+cv2.THRESH_OTSU) #OTSU\n",
        "\n",
        "titles = ['Original Image', 'Global Thresholding (v = 127)',\n",
        "            'Adaptive Mean Thresholding', 'Adaptive Gaussian Thresholding']\n",
        "images = [img, th1, th2, th3]\n",
        "\n",
        "fig, axes = plt.subplots(2, 2, figsize=(12, 8))\n",
        "ax = axes.ravel()\n",
        "for i in range(4):\n",
        "    ax[i].imshow(images[i], cmap='gray')\n",
        "    ax[i].set_title(titles[i])\n",
        "    ax[i].set_axis_off()"
      ],
      "execution_count": null,
      "outputs": []
    },
    {
      "metadata": {
        "id": "B5DLbHEQsmRg"
      },
      "cell_type": "markdown",
      "source": [
        "### 2.4 Connected Components"
      ]
    },
    {
      "metadata": {
        "trusted": true,
        "id": "OvCjSdAksmRh"
      },
      "cell_type": "code",
      "source": [
        "img4 = cv2.imread('processamento_imagens/imagens/0342.jpg', 0)\n",
        "img4 = cv2.threshold(img4, 127, 255, cv2.THRESH_BINARY)[1]  # ensure binary\n",
        "ret, labels = cv2.connectedComponents(img4)\n",
        "\n",
        "# Map component labels to hue val\n",
        "label_hue = np.uint8(179*labels/np.max(labels))\n",
        "blank_ch = 255*np.ones_like(label_hue)\n",
        "labeled_img = cv2.merge([label_hue, blank_ch, blank_ch])\n",
        "\n",
        "# cvt to BGR for display\n",
        "labeled_img = cv2.cvtColor(labeled_img, cv2.COLOR_HSV2BGR)\n",
        "\n",
        "# set bg label to black\n",
        "labeled_img[label_hue==0] = 0\n",
        "\n",
        "fig, axes = plt.subplots(1, 2, figsize=(15, 8))\n",
        "ax = axes.ravel()\n",
        "\n",
        "ax[0].imshow(img4, cmap='gray')\n",
        "ax[0].set_title('Original')\n",
        "ax[0].set_axis_off()\n",
        "\n",
        "ax[1].imshow(cv2.cvtColor(labeled_img, cv2.COLOR_BGR2RGB))\n",
        "ax[1].set_title('Saída')\n",
        "ax[1].set_axis_off()\n"
      ],
      "execution_count": null,
      "outputs": []
    },
    {
      "cell_type": "markdown",
      "source": [],
      "metadata": {
        "id": "DrMpBAj1v39h"
      }
    },
    {
      "metadata": {
        "id": "7pMfrVlzsmRG"
      },
      "cell_type": "markdown",
      "source": [
        "### 2.3 Watershed"
      ]
    },
    {
      "metadata": {
        "trusted": true,
        "id": "a0N7sRiIsmRH"
      },
      "cell_type": "code",
      "source": [
        "img3 = cv2.imread('processamento_imagens/imagens/water_coins.jpg')\n",
        "img3c = img3.copy()\n",
        "gray = cv2.cvtColor(img3,cv2.COLOR_BGR2GRAY)\n",
        "ret, thresh = cv2.threshold(gray,0,255,cv2.THRESH_BINARY_INV+cv2.THRESH_OTSU)\n",
        "# noise removal\n",
        "kernel = np.ones((3,3),np.uint8)\n",
        "opening = cv2.morphologyEx(thresh,cv2.MORPH_OPEN,kernel, iterations = 2)\n",
        "\n",
        "# sure background area\n",
        "sure_bg = cv2.dilate(opening,kernel,iterations=3)\n",
        "\n",
        "# Finding sure foreground area\n",
        "dist_transform = cv2.distanceTransform(opening,cv2.DIST_L2,5)\n",
        "ret, sure_fg = cv2.threshold(dist_transform,0.7*dist_transform.max(),255,0)\n",
        "\n",
        "# Finding unknown region\n",
        "sure_fg = np.uint8(sure_fg)\n",
        "unknown = cv2.subtract(sure_bg,sure_fg)\n",
        "\n",
        "# Marker labelling\n",
        "ret, markers = cv2.connectedComponents(sure_fg)\n",
        "\n",
        "# Add one to all labels so that sure background is not 0, but 1\n",
        "markers = markers+1\n",
        "\n",
        "# Now, mark the region of unknown with zero\n",
        "markers[unknown==255] = 0\n",
        "\n",
        "markers = cv2.watershed(img3,markers)\n",
        "img3[markers == -1] = [255,0,0]\n",
        "\n",
        "fig, axes = plt.subplots(1, 2, figsize=(12, 8))\n",
        "ax = axes.ravel()\n",
        "\n",
        "ax[0].imshow(cv2.cvtColor(img3c, cv2.COLOR_BGR2RGB))\n",
        "ax[0].set_title('Original')\n",
        "ax[0].set_axis_off()\n",
        "\n",
        "ax[1].imshow(cv2.cvtColor(img3, cv2.COLOR_BGR2RGB))\n",
        "ax[1].set_title('watershed')\n",
        "ax[1].set_axis_off()"
      ],
      "execution_count": null,
      "outputs": []
    },
    {
      "metadata": {
        "id": "dvHGhVw3smQg"
      },
      "cell_type": "markdown",
      "source": [
        "### 2.2 K-Means Clustering"
      ]
    },
    {
      "metadata": {
        "trusted": true,
        "id": "DUTlqmFFsmQ9"
      },
      "cell_type": "code",
      "source": [
        "img2 = cv2.imread('processamento_imagens/imagens/boa_viagem.jpg')\n",
        "Z = img2.reshape((-1,3))\n",
        "\n",
        "# convert to np.float32\n",
        "Z = np.float32(Z)\n",
        "\n",
        "# define criteria, number of clusters(K) and apply kmeans()\n",
        "criteria = (cv2.TERM_CRITERIA_EPS + cv2.TERM_CRITERIA_MAX_ITER, 10, 1.0)\n",
        "K = 4\n",
        "ret,label,center=cv2.kmeans(Z,K,None,criteria,10,cv2.KMEANS_RANDOM_CENTERS)\n",
        "\n",
        "# Now convert back into uint8, and make original image\n",
        "center = np.uint8(center)\n",
        "res = center[label.flatten()]\n",
        "res2 = res.reshape((img2.shape))\n",
        "\n",
        "fig, axes = plt.subplots(1, 2, figsize=(15, 8))\n",
        "ax = axes.ravel()\n",
        "\n",
        "ax[0].imshow(cv2.cvtColor(img2, cv2.COLOR_BGR2RGB))\n",
        "ax[0].set_title('Original')\n",
        "ax[0].set_axis_off()\n",
        "\n",
        "ax[1].imshow(cv2.cvtColor(res2, cv2.COLOR_BGR2RGB))\n",
        "ax[1].set_title('k-means clustering')\n",
        "ax[1].set_axis_off()"
      ],
      "execution_count": null,
      "outputs": []
    },
    {
      "metadata": {
        "id": "UcgIUFW1smRI"
      },
      "cell_type": "markdown",
      "source": [
        "### 2.3 MeanShift"
      ]
    },
    {
      "metadata": {
        "id": "Yv71mTiXsmRJ"
      },
      "cell_type": "markdown",
      "source": [
        "#### Parameters:\t\n",
        "    src – The source 8-bit, 3-channel image.\n",
        "    dst – The destination image of the same format and the same size as the source.\n",
        "    sp – The spatial window radius.\n",
        "    sr – The color window radius.\n",
        "    maxLevel – Maximum level of the pyramid for the segmentation.\n",
        "    termcrit – Termination criteria: when to stop meanshift iterations."
      ]
    },
    {
      "metadata": {
        "trusted": true,
        "id": "wr9cdq9TsmRc"
      },
      "cell_type": "code",
      "source": [
        "meanshift = cv2.pyrMeanShiftFiltering(img2, sp=16, sr=32, maxLevel=1, \n",
        "                                      termcrit=(cv2.TERM_CRITERIA_EPS+cv2.TERM_CRITERIA_MAX_ITER, 5, 1))\n",
        "fig, axes = plt.subplots(1, 2, figsize=(15, 8))\n",
        "ax = axes.ravel()\n",
        "\n",
        "ax[0].imshow(cv2.cvtColor(img2, cv2.COLOR_BGR2RGB))#convertendo para RGB antes de plotar\n",
        "ax[0].set_title('Original')\n",
        "ax[0].set_axis_off()\n",
        "\n",
        "ax[1].imshow(cv2.cvtColor(meanshift, cv2.COLOR_BGR2RGB))#convertendo para RGB antes de plotar\n",
        "ax[1].set_title('MeanShift')\n",
        "ax[1].set_axis_off()"
      ],
      "execution_count": null,
      "outputs": []
    }
  ],
  "metadata": {
    "kernelspec": {
      "name": "python36",
      "display_name": "Python 3.6",
      "language": "python"
    },
    "language_info": {
      "mimetype": "text/x-python",
      "nbconvert_exporter": "python",
      "name": "python",
      "pygments_lexer": "ipython3",
      "version": "3.6.6",
      "file_extension": ".py",
      "codemirror_mode": {
        "version": 3,
        "name": "ipython"
      }
    },
    "colab": {
      "provenance": [],
      "include_colab_link": true
    }
  },
  "nbformat": 4,
  "nbformat_minor": 0
}