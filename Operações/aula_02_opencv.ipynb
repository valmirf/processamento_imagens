{
  "nbformat": 4,
  "nbformat_minor": 0,
  "metadata": {
    "kernelspec": {
      "name": "python36",
      "display_name": "Python 3.6",
      "language": "python"
    },
    "language_info": {
      "mimetype": "text/x-python",
      "nbconvert_exporter": "python",
      "name": "python",
      "pygments_lexer": "ipython3",
      "version": "3.6.6",
      "file_extension": ".py",
      "codemirror_mode": {
        "version": 3,
        "name": "ipython"
      }
    },
    "colab": {
      "name": "aula_02_opencv.ipynb",
      "provenance": [],
      "collapsed_sections": [],
      "include_colab_link": true
    },
    "accelerator": "GPU"
  },
  "cells": [
    {
      "cell_type": "markdown",
      "metadata": {
        "id": "view-in-github",
        "colab_type": "text"
      },
      "source": [
        "<a href=\"https://colab.research.google.com/github/valmirf/processamento_imagens/blob/master/Opera%C3%A7%C3%B5es/aula_02_opencv.ipynb\" target=\"_parent\"><img src=\"https://colab.research.google.com/assets/colab-badge.svg\" alt=\"Open In Colab\"/></a>"
      ]
    },
    {
      "cell_type": "code",
      "metadata": {
        "id": "y14Lh5nQoO2v"
      },
      "source": [
        "!git clone https://github.com/valmirf/processamento_imagens.git"
      ],
      "execution_count": null,
      "outputs": []
    },
    {
      "cell_type": "markdown",
      "metadata": {
        "collapsed": true,
        "id": "ZG1hQFeEnBWC"
      },
      "source": [
        "# Opencv - Aula 2"
      ]
    },
    {
      "cell_type": "markdown",
      "metadata": {
        "id": "uYhMEB-MnBWF"
      },
      "source": [
        "Imports necessários"
      ]
    },
    {
      "cell_type": "code",
      "metadata": {
        "trusted": true,
        "id": "Ra-j9B1tnBWG"
      },
      "source": [
        "import cv2\n",
        "import numpy as np\n",
        "%matplotlib inline\n",
        "from matplotlib import pyplot as plt"
      ],
      "execution_count": null,
      "outputs": []
    },
    {
      "cell_type": "markdown",
      "metadata": {
        "id": "DBrE7X-SnBWO"
      },
      "source": [
        "## 1. Operações com Imagens"
      ]
    },
    {
      "cell_type": "markdown",
      "metadata": {
        "id": "RNOjdz0pnBWP"
      },
      "source": [
        "### 1.1 Adição de Imagens"
      ]
    },
    {
      "cell_type": "markdown",
      "metadata": {
        "id": "eKbdUohdnBWR"
      },
      "source": [
        "Dadas duas imagens com as mesmas dimensões:"
      ]
    },
    {
      "cell_type": "code",
      "metadata": {
        "trusted": true,
        "id": "ySMaH58xnBWS"
      },
      "source": [
        "img1 = cv2.imread('processamento_imagens/imagens/soma_imagem1.png')\n",
        "img2 = cv2.imread('processamento_imagens/imagens/soma_imagem2.png')\n",
        "dst = cv2.add(img1,img2)\n",
        "\n",
        "fig, axes = plt.subplots(1, 3, figsize=(10, 5))\n",
        "ax = axes.ravel()\n",
        "ax[0].imshow(img1)\n",
        "ax[0].set_title('Imagem a')\n",
        "ax[0].set_axis_off()\n",
        "\n",
        "ax[1].imshow(img2)\n",
        "ax[1].set_title('Imagem b')\n",
        "ax[1].set_axis_off()\n",
        "\n",
        "ax[2].imshow(dst)\n",
        "ax[2].set_title('Imagem a+b')\n",
        "ax[2].set_axis_off()"
      ],
      "execution_count": null,
      "outputs": []
    },
    {
      "cell_type": "markdown",
      "metadata": {
        "id": "7dDINVUQnBWX"
      },
      "source": [
        "### 1.2 cv2.addWeighted()"
      ]
    },
    {
      "cell_type": "code",
      "metadata": {
        "trusted": true,
        "id": "dQWTSmtQnBWY"
      },
      "source": [
        "dst2 = cv2.addWeighted(img1,0.7,img2,0.3,0) \n",
        "fig, axes = plt.subplots(1, 3, figsize=(10, 5))\n",
        "ax = axes.ravel()\n",
        "ax[0].imshow(img1)\n",
        "ax[0].set_title('Imagem a')\n",
        "ax[0].set_axis_off()\n",
        "ax[1].imshow(img2)\n",
        "ax[1].set_title('Imagem b')\n",
        "ax[1].set_axis_off()\n",
        "ax[2].imshow(dst2)\n",
        "ax[2].set_title('Imagem a+b')\n",
        "ax[2].set_axis_off()"
      ],
      "execution_count": null,
      "outputs": []
    },
    {
      "cell_type": "markdown",
      "metadata": {
        "id": "Lb_kcId68nPA"
      },
      "source": [
        "### 1.3 Subtração"
      ]
    },
    {
      "cell_type": "code",
      "metadata": {
        "id": "ZlUXX9f483sZ"
      },
      "source": [
        "img1 = cv2.imread('processamento_imagens/imagens/moedaA.jpg')\n",
        "print(img1.shape)\n",
        "img2 = cv2.imread('processamento_imagens/imagens/moedaB.jpg')\n",
        "print(img2.shape)\n",
        "dst = cv2.subtract(img1,img2)\n",
        "\n",
        "fig, axes = plt.subplots(1, 3, figsize=(10, 5))\n",
        "ax = axes.ravel()\n",
        "ax[0].imshow(img1)\n",
        "ax[0].set_title('Imagem a')\n",
        "ax[0].set_axis_off()\n",
        "\n",
        "ax[1].imshow(img2)\n",
        "ax[1].set_title('Imagem a')\n",
        "ax[1].set_axis_off()\n",
        "\n",
        "ax[2].imshow(dst)\n",
        "ax[2].set_title('Imagem a-b')\n",
        "ax[2].set_axis_off()"
      ],
      "execution_count": null,
      "outputs": []
    },
    {
      "cell_type": "markdown",
      "metadata": {
        "id": "syBInafHnBWc"
      },
      "source": [
        "### 1.4 Operações Lógicas\n"
      ]
    },
    {
      "cell_type": "markdown",
      "metadata": {
        "id": "0W0x2WQAC3CD"
      },
      "source": [
        "AND"
      ]
    },
    {
      "cell_type": "code",
      "metadata": {
        "id": "uB1oECjGC3eU"
      },
      "source": [
        "mask_inv = cv2.bitwise_and(img1,img2)\n",
        "\n",
        "fig, axes = plt.subplots(1, 3, figsize=(10, 5))\n",
        "ax = axes.ravel()\n",
        "ax[0].imshow(img1)\n",
        "ax[0].set_title('Imagem a')\n",
        "ax[0].set_axis_off()\n",
        "ax[1].imshow(img2)\n",
        "ax[1].set_title('Imagem b')\n",
        "ax[1].set_axis_off()\n",
        "ax[2].imshow(mask_inv)\n",
        "ax[2].set_title('a AND b')\n",
        "ax[2].set_axis_off()"
      ],
      "execution_count": null,
      "outputs": []
    },
    {
      "cell_type": "markdown",
      "metadata": {
        "id": "J7Tjtv81nBWf"
      },
      "source": [
        "#### NOT"
      ]
    },
    {
      "cell_type": "code",
      "metadata": {
        "trusted": true,
        "id": "xHmO62o2nBWg"
      },
      "source": [
        "mask_inv = cv2.bitwise_not(img2)\n",
        "fig, axes = plt.subplots(1, 2, figsize=(10, 5))\n",
        "ax = axes.ravel()\n",
        "ax[0].imshow(img2)\n",
        "ax[0].set_title('Imagem a')\n",
        "ax[0].set_axis_off()\n",
        "ax[1].imshow(mask_inv)\n",
        "ax[1].set_title('Imagem a')\n",
        "ax[1].set_axis_off()\n"
      ],
      "execution_count": null,
      "outputs": []
    },
    {
      "cell_type": "markdown",
      "metadata": {
        "id": "BHyuES_sEFIl"
      },
      "source": [
        "## 2. Transformações Geométricas"
      ]
    },
    {
      "cell_type": "markdown",
      "metadata": {
        "id": "gtqMCm1iFdzi"
      },
      "source": [
        "### 2.1 Translação"
      ]
    },
    {
      "cell_type": "markdown",
      "metadata": {
        "id": "HDpjHORoEL95"
      },
      "source": [
        "*warpAffine(imagem,matriz deslocamento, dimensões da imagem). \n",
        "\n",
        "\n",
        "*Matrix de deslocamento: as duas primeira colunas não devem ser alteradas e a última coluna é para especificar o deslocamento. A primeira linha é o deslocamento no eixo “x” e a segunda linha é o deslocamento no eixo “y”."
      ]
    },
    {
      "cell_type": "code",
      "metadata": {
        "id": "dwIog_c5ERA5"
      },
      "source": [
        "imagem = cv2.imread('processamento_imagens/imagens/logo_opencv.png')\n",
        "print(imagem.shape)\n",
        "altura, largura = imagem.shape[:2] #altura e largura da imagem \n",
        "\n",
        "\n",
        "plt.figure(figsize=(4, 4), dpi= 80, facecolor='w', edgecolor='k')\n",
        "plt.axis(\"off\")\n",
        "plt.imshow(cv2.cvtColor(imagem, cv2.COLOR_BGR2RGB))\n",
        "\n",
        "#deslocamento de 25 pixels para direita e 50 pixels para baixo\n",
        "deslocamento1 = np.float32([[1, 0, 25], [0, 1, 50]])\n",
        "deslocado1 = cv2.warpAffine(imagem, deslocamento1, (largura, altura))\n",
        "\n",
        "#deslocamento de 50 pixels para esquerda e 00 pixels para cima\n",
        "deslocamento2 = np.float32([[1, 0, -50], [0, 1, -90]])\n",
        "deslocado2 = cv2.warpAffine(imagem, deslocamento2, (largura, altura))\n",
        "\n",
        "\n",
        "fig, axes = plt.subplots(1, 2, figsize=(10, 5))\n",
        "ax = axes.ravel()\n",
        "ax[0].imshow(deslocado1)\n",
        "ax[0].set_title('Baixo e direita')\n",
        "ax[0].set_axis_off()\n",
        "ax[1].imshow(deslocado2)\n",
        "ax[1].set_title('Cima e esquerda')\n",
        "ax[1].set_axis_off()\n"
      ],
      "execution_count": null,
      "outputs": []
    },
    {
      "cell_type": "markdown",
      "metadata": {
        "id": "vmrqIgryLUKF"
      },
      "source": [
        "### 2.2 Rotação"
      ]
    },
    {
      "cell_type": "markdown",
      "metadata": {
        "id": "7UH-xcewLewl"
      },
      "source": [
        "*warpAffine(imagem, rotacao, (largura, altura))\n",
        "\n",
        "*Rotação: É preciso fornecer um ponto de fixação para rotacionar a partir desse ponto, um ângulo e um valor que pode alterar o tamanho da imagem se for diferente de 1.\n",
        "\n"
      ]
    },
    {
      "cell_type": "code",
      "metadata": {
        "id": "Qk9Sx6pyMCyk"
      },
      "source": [
        "ponto = (largura/2, altura/2) #ponto no centro da figura (ponto mais utilizao)\n",
        "\n",
        "#rotação de 45 graus\n",
        "rotacao1 = cv2.getRotationMatrix2D(ponto, 45, 1.0)\n",
        "rotacionado1 = cv2.warpAffine(imagem, rotacao1, (largura, altura))\n",
        " \n",
        "#rotação de 120 graus  \n",
        "rotacao2 = cv2.getRotationMatrix2D(ponto, 120, 1.0)\n",
        "rotacionado2 = cv2.warpAffine(imagem, rotacao2, (largura, altura))\n",
        "\n",
        "\n",
        "fig, axes = plt.subplots(1, 2, figsize=(10, 5))\n",
        "ax = axes.ravel()\n",
        "ax[0].imshow(rotacionado1)\n",
        "ax[0].set_title('Rotacionado 45 graus')\n",
        "ax[0].set_axis_off()\n",
        "ax[1].imshow(rotacionado2)\n",
        "ax[1].set_title('Rotacionado 120 graus')\n",
        "ax[1].set_axis_off()\n"
      ],
      "execution_count": null,
      "outputs": []
    },
    {
      "cell_type": "markdown",
      "metadata": {
        "id": "mQ8ZMJmTETcS"
      },
      "source": [
        "## 3. Interpolação"
      ]
    },
    {
      "cell_type": "markdown",
      "metadata": {
        "id": "gEiG7jcqEYZt"
      },
      "source": [
        "Interpolações do vizinho mais próximo, bilinear e bicúbica"
      ]
    },
    {
      "cell_type": "code",
      "metadata": {
        "id": "2-_LzlafEde1"
      },
      "source": [
        "apple = cv2.imread('processamento_imagens/imagens/apple.jpg')\n",
        "print(apple.shape)\n",
        "\n",
        "#interpolação do vizinho mais próximo\n",
        "near_img = cv2.resize(apple,None, fx = 10, fy = 10, interpolation = cv2.INTER_NEAREST)\n",
        "\n",
        "#interpolação bilinear\n",
        "bilinear_img = cv2.resize(apple,None, fx = 10, fy = 10, interpolation = cv2.INTER_LINEAR)\n",
        "\n",
        "#interpolação bicúbica\n",
        "bicubic_img = cv2.resize(apple,None, fx = 10, fy = 10, interpolation = cv2.INTER_CUBIC)\n",
        "\n",
        "\n",
        "\n",
        "fig, axes = plt.subplots(1, 3, figsize=(10, 5))\n",
        "ax = axes.ravel()\n",
        "ax[0].imshow(near_img)\n",
        "ax[0].set_title('Vizinho Mais Próximo')\n",
        "ax[0].set_axis_off()\n",
        "ax[1].imshow(bilinear_img)\n",
        "ax[1].set_title('Bilinear')\n",
        "ax[1].set_axis_off()\n",
        "ax[2].imshow(bicubic_img)\n",
        "ax[2].set_title('Bicúbica')\n",
        "ax[2].set_axis_off()"
      ],
      "execution_count": null,
      "outputs": []
    },
    {
      "cell_type": "markdown",
      "metadata": {
        "id": "CpuOgbZcnKwP"
      },
      "source": [
        "## 4. Histograma da imagem"
      ]
    },
    {
      "cell_type": "code",
      "metadata": {
        "id": "G_Izs9OpnryL"
      },
      "source": [
        "img = cv2.imread('processamento_imagens/imagens/varigmd11.jpg') #Lendo uma imagem\n",
        "print(img.shape)\n",
        "\n",
        "plt.figure(figsize=(6, 6), dpi= 80, facecolor='w', edgecolor='k')\n",
        "plt.axis(\"off\")\n",
        "plt.imshow(cv2.cvtColor(img, cv2.COLOR_BGR2RGB)) #Conversão necessária para protar a imagem, devido ao opencv usa o \n",
        "                                                 #formato RGB, enquanto o matplotlib usa RGB"
      ],
      "execution_count": null,
      "outputs": []
    },
    {
      "cell_type": "code",
      "metadata": {
        "id": "lhiEiwrYngcq"
      },
      "source": [
        "plt.hist(img.ravel(),256,[0,256]); \n",
        "plt.show()"
      ],
      "execution_count": null,
      "outputs": []
    },
    {
      "cell_type": "code",
      "metadata": {
        "id": "MlOgA49Kn_Pn"
      },
      "source": [
        "color = ('b','g','r')\n",
        "for i,col in enumerate(color):\n",
        "    histr = cv2.calcHist([img],[i],None,[256],[0,256])\n",
        "    plt.plot(histr,color = col)\n",
        "    plt.xlim([0,256])\n",
        "plt.show()"
      ],
      "execution_count": null,
      "outputs": []
    },
    {
      "cell_type": "markdown",
      "metadata": {
        "id": "fLJZjmJxosqN"
      },
      "source": [
        "### 4.1 Equalização do Histograma"
      ]
    },
    {
      "cell_type": "code",
      "metadata": {
        "id": "Vcodx6PRosQE"
      },
      "source": [
        "img2 = cv2.imread('processamento_imagens/imagens/elefante.jpeg') #Lendo uma imagem\n",
        "print(img.shape)\n",
        "\n",
        "plt.figure(figsize=(6, 6), dpi= 80, facecolor='w', edgecolor='k')\n",
        "plt.axis(\"off\")\n",
        "plt.imshow(cv2.cvtColor(img2, cv2.COLOR_BGR2RGB)) #Conversão necessária para protar a imagem, devido ao opencv usa o \n",
        "                                                 #formato RGB, enquanto o matplotlib usa RGB\n",
        "\n",
        "imggray = cv2.cvtColor(img2, cv2.COLOR_BGR2GRAY)\n",
        "\n",
        "equ = cv2.equalizeHist(imggray)\n",
        "\n",
        "fig, axes = plt.subplots(1, 2, figsize=(10, 5))\n",
        "ax = axes.ravel()\n",
        "\n",
        "ax[0].imshow(imggray, cmap='gray')\n",
        "ax[0].set_title('Imagem de entrada')\n",
        "ax[0].set_axis_off()\n",
        "\n",
        "ax[1].imshow(equ, cmap='gray')\n",
        "ax[1].set_title('Equalizada')\n",
        "ax[1].set_axis_off()"
      ],
      "execution_count": null,
      "outputs": []
    },
    {
      "cell_type": "markdown",
      "metadata": {
        "id": "CtQ0922eVRxk"
      },
      "source": [
        "### 4.2 Negativo"
      ]
    },
    {
      "cell_type": "code",
      "metadata": {
        "id": "moTtwBmaVjMs"
      },
      "source": [
        "img = cv2.imread('processamento_imagens/imagens/sertao-araquem-alcantara.jpg') #Lendo uma imagem\n",
        "\n",
        "imggray = cv2.cvtColor(img, cv2.COLOR_BGR2GRAY)\n",
        "\n",
        "imgneg = 255-imggray\n",
        "\n",
        "\n",
        "plt.figure(figsize=(6, 6), dpi= 80, facecolor='w', edgecolor='k')\n",
        "plt.axis(\"off\")\n",
        "plt.imshow(cv2.cvtColor(img, cv2.COLOR_BGR2RGB))\n",
        "\n",
        "plt.figure(figsize=(6, 6), dpi= 80, facecolor='w', edgecolor='k')\n",
        "plt.axis(\"off\")\n",
        "plt.imshow(imgneg, cmap='gray')\n",
        "\n"
      ],
      "execution_count": null,
      "outputs": []
    },
    {
      "cell_type": "markdown",
      "metadata": {
        "id": "nQ2K9DaOZ2AD"
      },
      "source": [
        "### 4.3 Brilho"
      ]
    },
    {
      "cell_type": "code",
      "metadata": {
        "id": "e67n2WxhaDX1"
      },
      "source": [
        "imgbrilhopos = imggray+50\n",
        "imgbrilhoneg = imggray-50\n",
        "\n",
        "\n",
        "fig, axes = plt.subplots(1, 2, figsize=(10, 5))\n",
        "ax = axes.ravel()\n",
        "\n",
        "ax[0].imshow(imgbrilhopos, cmap='gray')\n",
        "ax[0].set_title('Mais Brilho')\n",
        "ax[0].set_axis_off()\n",
        "\n",
        "ax[1].imshow(imgbrilhoneg, cmap='gray')\n",
        "ax[1].set_title('Menos Brilho')\n",
        "ax[1].set_axis_off()\n",
        "\n"
      ],
      "execution_count": null,
      "outputs": []
    },
    {
      "cell_type": "code",
      "metadata": {
        "id": "hB4ufAAWgxX5"
      },
      "source": [
        "### 4.4 Contraste"
      ],
      "execution_count": null,
      "outputs": []
    },
    {
      "cell_type": "code",
      "metadata": {
        "id": "sKplv0uQgzUP"
      },
      "source": [
        "imgcontrastealto = imggray*1.1\n",
        "imgcontrastebaixo = imggray*0.9\n",
        "\n",
        "imgcontrastealto = imgcontrastealto.astype('uint8')\n",
        "imgcontrastebaixo = imgcontrastebaixo.astype('uint8')\n",
        "                   \n",
        "fig, axes = plt.subplots(1, 2, figsize=(10, 5))\n",
        "ax = axes.ravel()\n",
        "\n",
        "ax[0].imshow(imgcontrastealto, cmap='gray')\n",
        "ax[0].set_title('Contraste Alto')\n",
        "ax[0].set_axis_off()\n",
        "\n",
        "ax[1].imshow(imgcontrastebaixo, cmap='gray')\n",
        "ax[1].set_title('Contraste Baixo')\n",
        "ax[1].set_axis_off()\n"
      ],
      "execution_count": null,
      "outputs": []
    },
    {
      "cell_type": "markdown",
      "metadata": {
        "id": "nOYnUfkXh0Ix"
      },
      "source": [
        "## 5. Limiarização"
      ]
    },
    {
      "cell_type": "code",
      "metadata": {
        "id": "Lvm-E-Rkh4ez"
      },
      "source": [
        "imgorig = cv2.imread('processamento_imagens/imagens/cromossomos.png')\n",
        "img = cv2.cvtColor(imgorig, cv2.COLOR_BGR2GRAY)\n",
        "img = cv2.medianBlur(img,5)\n",
        "print(img.shape)\n",
        "\n",
        "ret,th1 = cv2.threshold(img,127,255,cv2.THRESH_BINARY)\n",
        "th2 = cv2.adaptiveThreshold(img,255,cv2.ADAPTIVE_THRESH_MEAN_C, cv2.THRESH_BINARY,11,2)\n",
        "th3 = cv2.adaptiveThreshold(img,255,cv2.ADAPTIVE_THRESH_GAUSSIAN_C, cv2.THRESH_BINARY,11,2)\n",
        "th4 = cv2.threshold(img,125,255,cv2.THRESH_BINARY+cv2.THRESH_TRIANGLE) #TRIANGLE\n",
        "th5 = cv2.threshold(img,125,255,cv2.THRESH_BINARY+cv2.THRESH_OTSU) #OTSU\n",
        "\n",
        "titles = ['Imagem Original', 'Limiar Global (v = 127)',\n",
        "            'Adaptive Mean', 'Adaptive Gaussian', 'Triângulo', 'OTSU']\n",
        "images = [img, th1, th2, th3, th4[1], th5[1]]\n",
        "\n",
        "fig, axes = plt.subplots(3, 2, figsize=(12, 8))\n",
        "ax = axes.ravel()\n",
        "for i in range(6):\n",
        "    ax[i].imshow(images[i], cmap='gray')\n",
        "    ax[i].set_title(titles[i])\n",
        "    ax[i].set_axis_off()"
      ],
      "execution_count": null,
      "outputs": []
    },
    {
      "cell_type": "markdown",
      "metadata": {
        "id": "590Lc-56c9Us"
      },
      "source": [
        "\n",
        "## 6.0 Sistema de cores\n"
      ]
    },
    {
      "cell_type": "markdown",
      "metadata": {
        "id": "8i7HAbN7iSUj"
      },
      "source": [
        "### 6.1 Canais separados"
      ]
    },
    {
      "cell_type": "code",
      "metadata": {
        "id": "ThwWHiqCiXoS"
      },
      "source": [
        "img3 = cv2.imread('processamento_imagens/imagens/varig747.jpg') #Lendo uma imagem\n",
        "\n",
        "\n",
        "b = img3.copy()\n",
        "# set green and red channels to 0\n",
        "b[:, :, 1] = 0\n",
        "b[:, :, 2] = 0\n",
        "\n",
        "\n",
        "g = img3.copy()\n",
        "# set blue and red channels to 0\n",
        "g[:, :, 0] = 0\n",
        "g[:, :, 2] = 0\n",
        "\n",
        "r = img3.copy()\n",
        "# set blue and green channels to 0\n",
        "r[:, :, 0] = 0\n",
        "r[:, :, 1] = 0\n",
        "\n",
        "\n",
        "fig, axes = plt.subplots(1, 3, figsize=(10, 5))\n",
        "ax = axes.ravel()\n",
        "\n",
        "# RGB - Green\n",
        "ax[0].imshow(cv2.cvtColor(b, cv2.COLOR_BGR2RGB))\n",
        "ax[0].set_title('Canal Azul')\n",
        "ax[0].set_axis_off()\n",
        "\n",
        "\n",
        "# RGB - Blue\n",
        "ax[1].imshow(cv2.cvtColor(g, cv2.COLOR_BGR2RGB))\n",
        "ax[1].set_title('Canal Verde')\n",
        "ax[1].set_axis_off()\n",
        "\n",
        "\n",
        "# RGB - Red\n",
        "ax[2].imshow(cv2.cvtColor(r, cv2.COLOR_BGR2RGB))\n",
        "ax[2].set_title('Canal Vermelho')\n",
        "ax[2].set_axis_off()\n"
      ],
      "execution_count": null,
      "outputs": []
    },
    {
      "cell_type": "markdown",
      "metadata": {
        "id": "eRJ5vY2gki75"
      },
      "source": [
        "### 6.2 Conversão RGB para HSV\n",
        "\n",
        "OBS: para outro sistema de cor, usar o comando: cv2.cvtColor(imagem, cv2.COLOR_BGR2NOVOSISTEMADECOR)"
      ]
    },
    {
      "cell_type": "code",
      "metadata": {
        "id": "81CTM-ozdYI0"
      },
      "source": [
        "img3 = cv2.imread('processamento_imagens/imagens/varig747.jpg') #Lendo uma imagem\n",
        "\n",
        "\n",
        "hsv = cv2.cvtColor(img3, cv2.COLOR_BGR2HSV)\n",
        "fig, axes = plt.subplots(1, 2, figsize=(10, 5))\n",
        "ax = axes.ravel()\n",
        "\n",
        "ax[0].imshow(cv2.cvtColor(img3, cv2.COLOR_BGR2RGB))\n",
        "ax[0].set_title('Input image')\n",
        "ax[0].set_axis_off()\n",
        "\n",
        "ax[1].imshow(cv2.cvtColor(hsv, cv2.COLOR_BGR2HSV))\n",
        "ax[1].set_title('HSV')\n",
        "ax[1].set_axis_off()"
      ],
      "execution_count": null,
      "outputs": []
    },
    {
      "cell_type": "markdown",
      "metadata": {
        "id": "x5b_W8zbP0xx"
      },
      "source": [
        "#Exercícios\n",
        "\n",
        "1) Utilize operações básicas para diminuir o ruído da imagem abaixo:"
      ]
    },
    {
      "cell_type": "code",
      "metadata": {
        "id": "9mlJ5IpKP-ff"
      },
      "source": [
        "img = cv2.imread('processamento_imagens/imagens/meninaruido.jpg')\n",
        "\n",
        "\n",
        "\n",
        "plt.figure(figsize=(6, 6), dpi= 80, facecolor='w', edgecolor='k')\n",
        "plt.axis(\"off\")\n",
        "plt.imshow(cv2.cvtColor(img, cv2.COLOR_BGR2RGB)) \n"
      ],
      "execution_count": null,
      "outputs": []
    },
    {
      "cell_type": "markdown",
      "metadata": {
        "id": "vaxrV9otRamd"
      },
      "source": [
        "2) Retire os aviões da imagem abaixo com as operações de imagens"
      ]
    },
    {
      "cell_type": "code",
      "metadata": {
        "id": "8iXO8KCNRk-0"
      },
      "source": [
        "imggru1 = cv2.imread('processamento_imagens/imagens/fundo_aeroporto.png')\n",
        "imggru2 = cv2.imread('processamento_imagens/imagens/avies_aeroporto.png')\n",
        "\n",
        "\n",
        "fig, axes = plt.subplots(1, 2, figsize=(20, 10))\n",
        "ax = axes.ravel()\n",
        "ax[0].imshow(cv2.cvtColor(imggru1, cv2.COLOR_BGR2RGB))\n",
        "ax[0].set_title('Imagem 1')\n",
        "ax[0].set_axis_off()\n",
        "ax[1].imshow(cv2.cvtColor(imggru2, cv2.COLOR_BGR2RGB))\n",
        "ax[1].set_title('Imagem 2')\n",
        "ax[1].set_axis_off()"
      ],
      "execution_count": null,
      "outputs": []
    },
    {
      "cell_type": "markdown",
      "metadata": {
        "id": "Iy5wLVvCUJhY"
      },
      "source": [
        "3) Utilize rotação pra tentar deixar a torre abaixo reta\n",
        "\n"
      ]
    },
    {
      "cell_type": "code",
      "metadata": {
        "id": "YOw0aXBmUsvK"
      },
      "source": [
        "img = cv2.imread('processamento_imagens/imagens/pisa_inclinada.jpg')\n",
        "\n",
        "\n",
        "plt.figure(figsize=(6, 6), dpi= 80, facecolor='w', edgecolor='k')\n",
        "plt.axis(\"off\")\n",
        "plt.imshow(cv2.cvtColor(img, cv2.COLOR_BGR2RGB)) "
      ],
      "execution_count": null,
      "outputs": []
    },
    {
      "cell_type": "markdown",
      "metadata": {
        "id": "RI7xA2waUYWb"
      },
      "source": [
        "4) Utilize as técnicas de inteporlação na imagem abaixo pra melhorar sua resolução\n",
        "\n",
        "a) Vizinhos mais próximos\n",
        "b) Bicúbica"
      ]
    },
    {
      "cell_type": "code",
      "metadata": {
        "id": "qehuL4OzVF_-"
      },
      "source": [
        "img = cv2.imread('processamento_imagens/imagens/baixa_resolucao.png')\n",
        "\n",
        "\n",
        "plt.figure(figsize=(6, 6), dpi= 80, facecolor='w', edgecolor='k')\n",
        "plt.axis(\"off\")\n",
        "plt.imshow(cv2.cvtColor(img, cv2.COLOR_BGR2RGB)) "
      ],
      "execution_count": null,
      "outputs": []
    },
    {
      "cell_type": "markdown",
      "metadata": {
        "id": "krzsFC7sUexn"
      },
      "source": [
        "5) Utilize as técnicas abaixo pra tentar melhorar a qualidade da imagem abaixo:\n",
        "\n",
        "a) Brilho\n",
        "b) Contraste\n",
        "c) Equalização do histograma"
      ]
    },
    {
      "cell_type": "code",
      "metadata": {
        "id": "sdIKBbVRVjyi"
      },
      "source": [
        "img = cv2.imread('processamento_imagens/imagens/paisagem_escura.jpg')\n",
        "\n",
        "\n",
        "plt.figure(figsize=(6, 6), dpi= 80, facecolor='w', edgecolor='k')\n",
        "plt.axis(\"off\")\n",
        "plt.imshow(cv2.cvtColor(img, cv2.COLOR_BGR2RGB)) "
      ],
      "execution_count": null,
      "outputs": []
    },
    {
      "cell_type": "markdown",
      "metadata": {
        "id": "bpp2zKuTXYg7"
      },
      "source": [
        "6) Utilize as técnicas de alteração de cores em cada canal para transformar a imagem original numa imagem sépia, semelhante ao exemplo."
      ]
    },
    {
      "cell_type": "code",
      "metadata": {
        "id": "y88tdLmxXn7O"
      },
      "source": [
        "imggru1 = cv2.imread('processamento_imagens/imagens/igarassu.jpg')\n",
        "imggru2 = cv2.imread('processamento_imagens/imagens/igarassu_sepia.jpg')\n",
        "\n",
        "\n",
        "fig, axes = plt.subplots(1, 2, figsize=(20, 10))\n",
        "ax = axes.ravel()\n",
        "ax[0].imshow(cv2.cvtColor(imggru1, cv2.COLOR_BGR2RGB))\n",
        "ax[0].set_title('Imagem 1')\n",
        "ax[0].set_axis_off()\n",
        "ax[1].imshow(cv2.cvtColor(imggru2, cv2.COLOR_BGR2RGB))\n",
        "ax[1].set_title('Imagem 2')\n",
        "ax[1].set_axis_off()"
      ],
      "execution_count": null,
      "outputs": []
    },
    {
      "cell_type": "markdown",
      "metadata": {
        "id": "83kgtkT7XoSz"
      },
      "source": [
        "Utilize as técnicas de binarização para encontrar a melhor versão binarizada da imagem abaixo. Mostre comparações entre técnicas e parâmetros. "
      ]
    },
    {
      "cell_type": "code",
      "metadata": {
        "id": "Em2BdJm0YB9e"
      },
      "source": [
        "img = cv2.imread('processamento_imagens/imagens/PR4.bmp')\n",
        "\n",
        "\n",
        "plt.figure(figsize=(6, 6), dpi= 80, facecolor='w', edgecolor='k')\n",
        "plt.axis(\"off\")\n",
        "plt.imshow(cv2.cvtColor(img, cv2.COLOR_BGR2RGB)) "
      ],
      "execution_count": null,
      "outputs": []
    }
  ]
}