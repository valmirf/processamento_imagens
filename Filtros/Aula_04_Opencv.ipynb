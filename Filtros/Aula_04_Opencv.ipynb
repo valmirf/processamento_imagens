{
  "cells": [
    {
      "cell_type": "markdown",
      "metadata": {
        "id": "view-in-github",
        "colab_type": "text"
      },
      "source": [
        "<a href=\"https://colab.research.google.com/github/valmirf/processamento_imagens/blob/master/Filtros/Aula_04_Opencv.ipynb\" target=\"_parent\"><img src=\"https://colab.research.google.com/assets/colab-badge.svg\" alt=\"Open In Colab\"/></a>"
      ]
    },
    {
      "metadata": {
        "collapsed": true,
        "id": "yEXevD1DAR83"
      },
      "cell_type": "markdown",
      "source": [
        "# Opencv - Aula 4"
      ]
    },
    {
      "cell_type": "code",
      "source": [
        "!git clone https://github.com/valmirf/processamento_imagens.git\n"
      ],
      "metadata": {
        "id": "rhVxqoy4Jixo"
      },
      "execution_count": null,
      "outputs": []
    },
    {
      "metadata": {
        "id": "2vBOb3Q9AR87"
      },
      "cell_type": "markdown",
      "source": [
        "Imports necessários"
      ]
    },
    {
      "metadata": {
        "trusted": true,
        "id": "BV8osgqLAR89"
      },
      "cell_type": "code",
      "source": [
        "import cv2\n",
        "import numpy as np\n",
        "%matplotlib inline\n",
        "from matplotlib import pyplot as plt"
      ],
      "execution_count": null,
      "outputs": []
    },
    {
      "metadata": {
        "trusted": true,
        "id": "IqYyMDTXAR9B"
      },
      "cell_type": "code",
      "source": [
        "pudim = cv2.imread('processamento_imagens/imagens/pudimcat.jpg',0)\n",
        "dft = cv2.dft(np.float32(pudim),flags = cv2.DFT_COMPLEX_OUTPUT)\n",
        "dft_shift = np.fft.fftshift(dft)\n",
        "\n",
        "magnitude_spectrum = 20*np.log(cv2.magnitude(dft_shift[:,:,0],dft_shift[:,:,1]))\n",
        "\n",
        "fig, axes = plt.subplots(1, 2, figsize=(10, 5))\n",
        "ax = axes.ravel()\n",
        "ax[0].imshow(pudim, cmap='gray')\n",
        "ax[0].set_title('Imagem Entrada')\n",
        "ax[0].set_axis_off()\n",
        "\n",
        "ax[1].imshow(magnitude_spectrum, cmap='gray')\n",
        "ax[1].set_title('Magnitude Spectrum')\n",
        "ax[1].set_axis_off()"
      ],
      "execution_count": null,
      "outputs": []
    },
    {
      "metadata": {
        "id": "WJGCKF5YAR9A"
      },
      "cell_type": "markdown",
      "source": [
        "## 1. TRANSFORMADA DE FOURIER"
      ]
    },
    {
      "cell_type": "code",
      "source": [],
      "metadata": {
        "id": "rRLIIYB2Jem9"
      },
      "execution_count": null,
      "outputs": []
    },
    {
      "metadata": {
        "id": "G7ZoXI1JAR9E"
      },
      "cell_type": "markdown",
      "source": [
        "### 1.1 TRANSFORMADA INVERSA"
      ]
    },
    {
      "metadata": {
        "trusted": true,
        "id": "iUcVBg0wAR9G"
      },
      "cell_type": "code",
      "source": [
        "rows, cols = pudim.shape\n",
        "crow,ccol = rows//2 , cols//2\n",
        "\n",
        "# create a mask first, center square is 1, remaining all zeros\n",
        "mask = np.zeros((rows,cols,2))\n",
        "mask[crow-30:crow+30, ccol-30:ccol+30] = 1\n",
        "\n",
        "# apply mask and inverse DFT\n",
        "fshift = dft_shift*mask\n",
        "f_ishift = np.fft.ifftshift(fshift)\n",
        "img_back = cv2.idft(f_ishift)\n",
        "img_back = cv2.magnitude(img_back[:,:,0],img_back[:,:,1])\n",
        "\n",
        "fig, axes = plt.subplots(1, 3, figsize=(10, 5))\n",
        "ax = axes.ravel()\n",
        "ax[0].imshow(magnitude_spectrum, cmap='gray')\n",
        "ax[0].set_title('Magnitude Spectrum')\n",
        "ax[0].set_axis_off()\n",
        "\n",
        "ax[1].imshow(mask[:,:,0], cmap='gray')\n",
        "ax[1].set_title('Máscara')\n",
        "ax[1].set_axis_off()\n",
        "\n",
        "ax[2].imshow(img_back, cmap='gray')\n",
        "ax[2].set_title('Imagem de Saída')\n",
        "ax[2].set_axis_off()\n"
      ],
      "execution_count": null,
      "outputs": []
    },
    {
      "metadata": {
        "id": "V_HbN3gDAR9J"
      },
      "cell_type": "markdown",
      "source": [
        "## 2. Filtragem no domínio da frequência"
      ]
    },
    {
      "metadata": {
        "id": "oeu_egV7AR9L"
      },
      "cell_type": "markdown",
      "source": [
        "### 2.1 Gaussiano (Passa-Baixa)"
      ]
    },
    {
      "metadata": {
        "trusted": true,
        "id": "-eEupQq6AR9M"
      },
      "cell_type": "code",
      "source": [
        "# create a mask first\n",
        "width = max(rows,cols)\n",
        "down_points = (cols,rows)\n",
        "mask = np.zeros((width,width,2))\n",
        "\n",
        "\n",
        "\n",
        "fil = cv2.getGaussianKernel(ksize= width,sigma = 10)\n",
        "fil         = fil * fil.T\n",
        "mask[:,:,0] =fil\n",
        "mask[:,:,1] =fil\n",
        "\n",
        "if(rows != cols):\n",
        "  mask = cv2.resize(mask, down_points, interpolation= cv2.INTER_LINEAR)\n",
        "\n",
        "\n",
        "# apply mask and inverse DFT\n",
        "fshift = dft_shift*mask\n",
        "f_ishift = np.fft.ifftshift(fshift)\n",
        "img_back = cv2.idft(f_ishift)\n",
        "img_back = cv2.magnitude(img_back[:,:,0],img_back[:,:,1])\n",
        "\n",
        "fig, axes = plt.subplots(1, 3, figsize=(10, 5))\n",
        "ax = axes.ravel()\n",
        "ax[0].imshow(magnitude_spectrum, cmap='gray')\n",
        "ax[0].set_title('Magnitude Spectrum')\n",
        "ax[0].set_axis_off()\n",
        "\n",
        "ax[1].imshow(mask[:,:,0], cmap='gray')\n",
        "ax[1].set_title('Filtro')\n",
        "ax[1].set_axis_off()\n",
        "\n",
        "ax[2].imshow(img_back, cmap='gray')\n",
        "ax[2].set_title('Imagem de Saída')\n",
        "ax[2].set_axis_off()"
      ],
      "execution_count": null,
      "outputs": []
    },
    {
      "metadata": {
        "trusted": true,
        "id": "vL40rec9AR9O"
      },
      "cell_type": "code",
      "source": [],
      "execution_count": null,
      "outputs": []
    },
    {
      "metadata": {
        "trusted": true,
        "id": "muQOCQz7AR9P"
      },
      "cell_type": "code",
      "source": [],
      "execution_count": null,
      "outputs": []
    },
    {
      "metadata": {
        "trusted": true,
        "id": "ct048o8cAR9Q"
      },
      "cell_type": "code",
      "source": [],
      "execution_count": null,
      "outputs": []
    },
    {
      "metadata": {
        "trusted": true,
        "id": "dDrVxRdVAR9Q"
      },
      "cell_type": "code",
      "source": [],
      "execution_count": null,
      "outputs": []
    },
    {
      "metadata": {
        "trusted": true,
        "id": "0D4m7F4gAR9R"
      },
      "cell_type": "code",
      "source": [],
      "execution_count": null,
      "outputs": []
    },
    {
      "metadata": {
        "trusted": true,
        "scrolled": true,
        "id": "XocU2SG1AR9S"
      },
      "cell_type": "code",
      "source": [],
      "execution_count": null,
      "outputs": []
    },
    {
      "metadata": {
        "trusted": true,
        "id": "Dj7zHi3TAR9S"
      },
      "cell_type": "code",
      "source": [],
      "execution_count": null,
      "outputs": []
    },
    {
      "metadata": {
        "trusted": true,
        "id": "SoMARdd6AR9T"
      },
      "cell_type": "code",
      "source": [],
      "execution_count": null,
      "outputs": []
    }
  ],
  "metadata": {
    "kernelspec": {
      "name": "python36",
      "display_name": "Python 3.6",
      "language": "python"
    },
    "language_info": {
      "mimetype": "text/x-python",
      "nbconvert_exporter": "python",
      "name": "python",
      "pygments_lexer": "ipython3",
      "version": "3.6.6",
      "file_extension": ".py",
      "codemirror_mode": {
        "version": 3,
        "name": "ipython"
      }
    },
    "colab": {
      "name": "Aula_04_Opencv.ipynb",
      "provenance": [],
      "include_colab_link": true
    }
  },
  "nbformat": 4,
  "nbformat_minor": 0
}