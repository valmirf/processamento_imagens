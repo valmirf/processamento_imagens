{
  "nbformat": 4,
  "nbformat_minor": 0,
  "metadata": {
    "colab": {
      "name": "Aula_03_OpenCV.ipynb",
      "provenance": [],
      "collapsed_sections": [],
      "include_colab_link": true
    },
    "kernelspec": {
      "name": "python3",
      "display_name": "Python 3"
    }
  },
  "cells": [
    {
      "cell_type": "markdown",
      "metadata": {
        "id": "view-in-github",
        "colab_type": "text"
      },
      "source": [
        "<a href=\"https://colab.research.google.com/github/valmirf/processamento_imagens/blob/master/Filtros/Aula_03_OpenCV.ipynb\" target=\"_parent\"><img src=\"https://colab.research.google.com/assets/colab-badge.svg\" alt=\"Open In Colab\"/></a>"
      ]
    },
    {
      "cell_type": "code",
      "metadata": {
        "id": "EEjQ53BnJC9N"
      },
      "source": [
        "!git clone https://github.com/valmirf/processamento_imagens.git"
      ],
      "execution_count": null,
      "outputs": []
    },
    {
      "cell_type": "markdown",
      "metadata": {
        "id": "ZrNJBysxJZ82"
      },
      "source": [
        "##Aula OpenCV 3\n"
      ]
    },
    {
      "cell_type": "code",
      "metadata": {
        "id": "04ku1-xpJfGl"
      },
      "source": [
        "import cv2\n",
        "import numpy as np\n",
        "%matplotlib inline\n",
        "from matplotlib import pyplot as plt\n",
        "from google.colab.patches import cv2_imshow  #usar o comando imshow diretamente no colab"
      ],
      "execution_count": null,
      "outputs": []
    },
    {
      "cell_type": "markdown",
      "metadata": {
        "id": "IbVvT-Xflstb"
      },
      "source": [
        "## 2. Filtragem"
      ]
    },
    {
      "cell_type": "markdown",
      "metadata": {
        "id": "KzjFsyWZlzv1"
      },
      "source": [
        "### 2.1 cv2.filter2D[ ]"
      ]
    },
    {
      "cell_type": "code",
      "metadata": {
        "id": "9Z45iIOZllTz"
      },
      "source": [
        "logo = cv2.imread('processamento_imagens/imagens/logo_opencv.png')\n",
        "#print(logo)\n",
        "#Mascara com tamanho 5x5 do filtro média ou box\n",
        "kernel = np.ones((5,5),np.float32)/25\n",
        "print('Kernel média 5x5')\n",
        "print(kernel)\n",
        "dst_logo = cv2.filter2D(logo,-1,kernel)  #comando pra realizar a filtragem\n",
        "\n",
        "plt.subplot(121),plt.imshow(logo),plt.title('Original')\n",
        "plt.xticks([]), plt.yticks([])\n",
        "plt.subplot(122),plt.imshow(dst_logo),plt.title('Filtrada')\n",
        "plt.xticks([]), plt.yticks([])\n",
        "plt.show()"
      ],
      "execution_count": null,
      "outputs": []
    },
    {
      "cell_type": "code",
      "metadata": {
        "id": "wRmgG7ZRmMDB"
      },
      "source": [
        "logo = cv2.imread('processamento_imagens/imagens/logo_opencv.png')\n",
        "#print(logo)\n",
        "kernel = np.array([[12,13,14],[15,16,17],[18,19,20]])  #máscara filtro passa-baixa\n",
        "kernel2 = np.array([[-12,-13,-14],[-15,-16,-17],[18,19,20]])  #máscara filtro passa-alta\n",
        "print('Kernel passa-baixa qualquer')\n",
        "print(kernel)\n",
        "print('Kernel passa-alta qualquer')\n",
        "print(kernel2)\n",
        "\n",
        "dst_logo = cv2.filter2D(logo,-1,kernel) #filtragem\n",
        "dst_logo2 = cv2.filter2D(logo,-1,kernel2) #filtragem\n",
        "\n",
        "plt.subplot(131),plt.imshow(logo),plt.title('Original')\n",
        "plt.xticks([]), plt.yticks([])\n",
        "plt.subplot(132),plt.imshow(dst_logo),plt.title('Filtrada Passa-Baixa')\n",
        "plt.xticks([]), plt.yticks([])\n",
        "plt.subplot(133),plt.imshow(dst_logo2),plt.title('Filtrada Passa-Alta')\n",
        "plt.xticks([]), plt.yticks([])\n",
        "plt.show()"
      ],
      "execution_count": null,
      "outputs": []
    },
    {
      "cell_type": "markdown",
      "metadata": {
        "id": "vYNZGFIzmSNf"
      },
      "source": [
        "### 2.3 Filtro Gaussiano"
      ]
    },
    {
      "cell_type": "code",
      "metadata": {
        "id": "8hOeLuwxmTSj"
      },
      "source": [
        "blurGaussian = cv2.GaussianBlur(logo,(5,5),0)\n",
        "plt.subplot(121),plt.imshow(logo),plt.title('Original')\n",
        "plt.xticks([]), plt.yticks([])\n",
        "plt.subplot(122),plt.imshow(blurGaussian),plt.title('Filtrada')\n",
        "plt.xticks([]), plt.yticks([])\n",
        "plt.show()"
      ],
      "execution_count": null,
      "outputs": []
    },
    {
      "cell_type": "markdown",
      "metadata": {
        "id": "aQJG8LjMmXpO"
      },
      "source": [
        "### 2.3 Filtro da Mediana"
      ]
    },
    {
      "cell_type": "code",
      "metadata": {
        "id": "AUuey6ibmaND"
      },
      "source": [
        "noise = cv2.imread('processamento_imagens/imagens/noise.png')\n",
        "median = cv2.medianBlur(noise,21)\n",
        "\n",
        "plt.subplot(121),plt.imshow(noise),plt.title('Original')\n",
        "plt.xticks([]), plt.yticks([])\n",
        "plt.subplot(122),plt.imshow(median),plt.title('Filtrada')\n",
        "plt.xticks([]), plt.yticks([])\n",
        "plt.show()"
      ],
      "execution_count": null,
      "outputs": []
    },
    {
      "cell_type": "markdown",
      "metadata": {
        "id": "UxhPGeXMmgtt"
      },
      "source": [
        "## 3. Gradientes"
      ]
    },
    {
      "cell_type": "code",
      "metadata": {
        "id": "CjjVIFbOmh1N"
      },
      "source": [
        "dave = cv2.imread('processamento_imagens/imagens/dave.png',0)\n",
        "laplacian = cv2.Laplacian(dave,cv2.CV_64F)\n",
        "sobelx = cv2.Sobel(dave,cv2.CV_64F,1,0,ksize=5)\n",
        "sobely = cv2.Sobel(dave,cv2.CV_64F,0,1,ksize=5)\n",
        "\n",
        "fig, axes = plt.subplots(2, 2, figsize=(12, 8))\n",
        "ax = axes.ravel()\n",
        "\n",
        "ax[0].imshow(dave, cmap='gray')\n",
        "ax[0].set_title('Original')\n",
        "ax[0].set_axis_off()\n",
        "\n",
        "ax[1].imshow(laplacian, cmap='gray')\n",
        "ax[1].set_title('Laplacian')\n",
        "ax[1].set_axis_off()\n",
        "\n",
        "ax[2].imshow(sobelx, cmap='gray')\n",
        "ax[2].set_title('Sobel X')\n",
        "ax[2].set_axis_off()\n",
        "\n",
        "ax[3].imshow(sobely, cmap='gray')\n",
        "ax[3].set_title('Sobel Y')\n",
        "ax[3].set_axis_off()"
      ],
      "execution_count": null,
      "outputs": []
    },
    {
      "cell_type": "markdown",
      "metadata": {
        "id": "0vSDGKiKmmKc"
      },
      "source": [
        "## 4. Morfologia Matemática"
      ]
    },
    {
      "cell_type": "markdown",
      "metadata": {
        "id": "br-X94uCmpks"
      },
      "source": [
        "### 4.1 Dilatação"
      ]
    },
    {
      "cell_type": "code",
      "metadata": {
        "id": "bEWNbZrDmtBd"
      },
      "source": [
        "cheque = cv2.imread('processamento_imagens/imagens/cheque.tif',0)\n",
        "kernel = np.array([[0,0,0],[1,1,1],[0,0,0]], np.uint8)\n",
        "dilation = cv2.dilate(cheque,kernel,iterations = 1)\n",
        "fig, axes = plt.subplots(1, 2, figsize=(15, 8))\n",
        "ax = axes.ravel()\n",
        "\n",
        "ax[0].imshow(cheque, cmap='gray')\n",
        "ax[0].set_title('Original')\n",
        "ax[0].set_axis_off()\n",
        "\n",
        "ax[1].imshow(dilation, cmap='gray')\n",
        "ax[1].set_title('Dilatação')\n",
        "ax[1].set_axis_off()"
      ],
      "execution_count": null,
      "outputs": []
    },
    {
      "cell_type": "markdown",
      "metadata": {
        "id": "nYhR_lAAmyHX"
      },
      "source": [
        "### 4.2 Dilatação da imagem negativa"
      ]
    },
    {
      "cell_type": "code",
      "metadata": {
        "id": "JGP2EAKzmzEu"
      },
      "source": [
        "kernel = np.array([[0,0,0],[1,1,1],[0,0,0]],np.uint8)\n",
        "imgneg = 255-cheque;\n",
        "dilationneg = cv2.dilate(imgneg,kernel,iterations = 1)\n",
        "dilation2 = 255 - dilationneg \n",
        "fig, axes = plt.subplots(2, 2, figsize=(15, 8))\n",
        "ax = axes.ravel()\n",
        "\n",
        "ax[0].imshow(cheque, cmap='gray')\n",
        "ax[0].set_title('Original')\n",
        "ax[0].set_axis_off()\n",
        "\n",
        "ax[1].imshow(imgneg, cmap='gray')\n",
        "ax[1].set_title('Imagem negativa')\n",
        "ax[1].set_axis_off()\n",
        "\n",
        "ax[2].imshow(dilationneg, cmap='gray')\n",
        "ax[2].set_title('Dilatação negativa')\n",
        "ax[2].set_axis_off()\n",
        "\n",
        "ax[3].imshow(dilation2, cmap='gray')\n",
        "ax[3].set_title('Negativa da dilatação (final)')\n",
        "ax[3].set_axis_off()"
      ],
      "execution_count": null,
      "outputs": []
    },
    {
      "cell_type": "markdown",
      "metadata": {
        "id": "r7hyr-ocm3pL"
      },
      "source": [
        "### 4.3 Erosão"
      ]
    },
    {
      "cell_type": "code",
      "metadata": {
        "id": "-PoyKG-om6Qp"
      },
      "source": [
        "kernel = np.array([[0,0,0],[1,1,1],[0,0,0]],np.uint8)\n",
        "erosion = cv2.erode(cheque,kernel,iterations = 1)\n",
        "fig, axes = plt.subplots(1, 2, figsize=(15, 8))\n",
        "ax = axes.ravel()\n",
        "\n",
        "ax[0].imshow(cheque, cmap='gray')\n",
        "ax[0].set_title('Original')\n",
        "ax[0].set_axis_off()\n",
        "\n",
        "ax[1].imshow(erosion, cmap='gray')\n",
        "ax[1].set_title('Erosão')\n",
        "ax[1].set_axis_off()"
      ],
      "execution_count": null,
      "outputs": []
    },
    {
      "cell_type": "markdown",
      "metadata": {
        "id": "ovYpWF9jm-us"
      },
      "source": [
        "### 5. Elemento Estruturante - cv2.getStructuringElement()"
      ]
    },
    {
      "cell_type": "code",
      "metadata": {
        "id": "OtDz0OksnBxD"
      },
      "source": [
        "# Rectangular Kernel\n",
        "cv2.getStructuringElement(cv2.MORPH_RECT,(5,5))"
      ],
      "execution_count": null,
      "outputs": []
    },
    {
      "cell_type": "code",
      "metadata": {
        "id": "IFxq-7yqnEWz"
      },
      "source": [
        "# Elliptical Kernel\n",
        "cv2.getStructuringElement(cv2.MORPH_ELLIPSE,(5,5))"
      ],
      "execution_count": null,
      "outputs": []
    },
    {
      "cell_type": "code",
      "metadata": {
        "id": "un8ApwsdnHvh"
      },
      "source": [
        "# Cross-shaped Kernel\n",
        "cv2.getStructuringElement(cv2.MORPH_CROSS,(5,5))"
      ],
      "execution_count": null,
      "outputs": []
    },
    {
      "cell_type": "markdown",
      "metadata": {
        "id": "vb7gUYbZO-7W"
      },
      "source": [
        "## Exercícios"
      ]
    },
    {
      "cell_type": "markdown",
      "metadata": {
        "id": "vdL2GeVbMOf-"
      },
      "source": [
        "1. Usando a imagem do cheque, passe uma erosão e depois, uma dilatação com o mesmo elemento estrurante. Depois, passe uma dilatação e uma erosão com o mesmo elemento estruturante. Compare os resultados."
      ]
    },
    {
      "cell_type": "code",
      "metadata": {
        "id": "Q2ojl0DeM8hm"
      },
      "source": [
        ""
      ],
      "execution_count": null,
      "outputs": []
    },
    {
      "cell_type": "markdown",
      "metadata": {
        "id": "tgn42O6qPC0u"
      },
      "source": [
        "2. Sem usar o OPENCV, implemente um filtro na imagem abaixo. Nesse filtro, você poderá controlar o tamanho da máscara e seus valores. Use o filtro média (3,3) como exemplo."
      ]
    },
    {
      "cell_type": "code",
      "metadata": {
        "id": "r9iilVnSg5ub"
      },
      "source": [
        "img = cv2.imread('processamento_imagens/imagens/sebastiao-salgado-serra-pelada.jpg')\n",
        "cv2_imshow(img)\n",
        "\n",
        "\n"
      ],
      "execution_count": null,
      "outputs": []
    },
    {
      "cell_type": "markdown",
      "metadata": {
        "id": "Xye-bGyjgy6d"
      },
      "source": [
        "3. Transforme a imagem abaixo em preto e branco e sem usar o OPENCV, implemente as operações de dilatação e erosão. No elementro estruturante, você poderá controlar seu tamanho e valores e poderá usar o comando getStructuringElement. [link text](https://)"
      ]
    },
    {
      "cell_type": "code",
      "metadata": {
        "id": "EHpJ4WYSm5ZE"
      },
      "source": [
        "img = cv2.imread('processamento_imagens/imagens/cromossomos.png')\n",
        "cv2_imshow(img)"
      ],
      "execution_count": null,
      "outputs": []
    }
  ]
}