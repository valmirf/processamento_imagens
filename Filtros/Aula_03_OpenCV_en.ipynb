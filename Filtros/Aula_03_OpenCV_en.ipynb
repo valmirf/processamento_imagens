{
  "nbformat": 4,
  "nbformat_minor": 0,
  "metadata": {
    "colab": {
      "name": "Untitled4.ipynb",
      "provenance": [],
      "authorship_tag": "ABX9TyM/8W9XaGSgb4SzG1uo+wa7",
      "include_colab_link": true
    },
    "kernelspec": {
      "name": "python3",
      "display_name": "Python 3"
    },
    "language_info": {
      "name": "python"
    }
  },
  "cells": [
    {
      "cell_type": "markdown",
      "metadata": {
        "id": "view-in-github",
        "colab_type": "text"
      },
      "source": [
        "<a href=\"https://colab.research.google.com/github/valmirf/processamento_imagens/blob/master/Filtros/Aula_03_OpenCV_en.ipynb\" target=\"_parent\"><img src=\"https://colab.research.google.com/assets/colab-badge.svg\" alt=\"Open In Colab\"/></a>"
      ]
    },
    {
      "cell_type": "code",
      "execution_count": null,
      "metadata": {
        "id": "y781BbjtxwKJ"
      },
      "outputs": [],
      "source": [
        "!git clone https://github.com/valmirf/processamento_imagens.git"
      ]
    },
    {
      "cell_type": "markdown",
      "source": [
        "##OpenCV 3 - Filters"
      ],
      "metadata": {
        "id": "0M2owJ5jx4at"
      }
    },
    {
      "cell_type": "code",
      "source": [
        "import cv2\n",
        "import numpy as np\n",
        "%matplotlib inline\n",
        "from matplotlib import pyplot as plt\n",
        "from google.colab.patches import cv2_imshow  #usar o comando imshow diretamente no colab"
      ],
      "metadata": {
        "id": "UtpiS-94x6kG"
      },
      "execution_count": null,
      "outputs": []
    },
    {
      "cell_type": "markdown",
      "source": [
        "### 2.1 cv2.filter2D[ ]"
      ],
      "metadata": {
        "id": "W5U33YaXyWvr"
      }
    },
    {
      "cell_type": "code",
      "source": [
        "logo = cv2.imread('processamento_imagens/imagens/logo_opencv.png')\n",
        "#print(logo)\n",
        "#Mask with size 5x5 of the medium or box filter\n",
        "kernel = np.ones((5,5),np.float32)/25\n",
        "print('Kernel média 5x5')\n",
        "print(kernel)\n",
        "dst_logo = cv2.filter2D(logo,-1,kernel)  #command to perform the filtering\n",
        "\n",
        "plt.subplot(121),plt.imshow(logo),plt.title('Original')\n",
        "plt.xticks([]), plt.yticks([])\n",
        "plt.subplot(122),plt.imshow(dst_logo),plt.title('Filtrada')\n",
        "plt.xticks([]), plt.yticks([])\n",
        "plt.show()"
      ],
      "metadata": {
        "id": "AKTvazPNyXB6"
      },
      "execution_count": null,
      "outputs": []
    },
    {
      "cell_type": "code",
      "source": [
        "logo = cv2.imread('processamento_imagens/imagens/logo_opencv.png')\n",
        "#print(logo)\n",
        "kernel = np.array([[12,13,14],[15,16,17],[18,19,20]])  #máscara filtro passa-baixa\n",
        "kernel2 = np.array([[-12,-13,-14],[-15,-16,-17],[18,19,20]])  #máscara filtro passa-alta\n",
        "print('Any low-pass kernel')\n",
        "print(kernel)\n",
        "print('Any high-pass kernel')\n",
        "print(kernel2)\n",
        "\n",
        "dst_logo = cv2.filter2D(logo,-1,kernel) #filtragem\n",
        "dst_logo2 = cv2.filter2D(logo,-1,kernel2) #filtragem\n",
        "\n",
        "plt.subplot(131),plt.imshow(logo),plt.title('Original')\n",
        "plt.xticks([]), plt.yticks([])\n",
        "plt.subplot(132),plt.imshow(dst_logo),plt.title('Low-Pass Filtered')\n",
        "plt.xticks([]), plt.yticks([])\n",
        "plt.subplot(133),plt.imshow(dst_logo2),plt.title('High-Pass Filtered')\n",
        "plt.xticks([]), plt.yticks([])\n",
        "plt.show()"
      ],
      "metadata": {
        "id": "B61q_qtAyf_u"
      },
      "execution_count": null,
      "outputs": []
    },
    {
      "cell_type": "markdown",
      "source": [
        "### 2.3 Gaussian filter"
      ],
      "metadata": {
        "id": "LwqHbkcdy2Kk"
      }
    },
    {
      "cell_type": "code",
      "source": [
        "blurGaussian = cv2.GaussianBlur(logo,(5,5),0)\n",
        "plt.subplot(121),plt.imshow(logo),plt.title('Original')\n",
        "plt.xticks([]), plt.yticks([])\n",
        "plt.subplot(122),plt.imshow(blurGaussian),plt.title('Filtered')\n",
        "plt.xticks([]), plt.yticks([])\n",
        "plt.show()"
      ],
      "metadata": {
        "id": "v3q5LD2fy9M7"
      },
      "execution_count": null,
      "outputs": []
    },
    {
      "cell_type": "markdown",
      "source": [
        "### 2.3 Median Filter"
      ],
      "metadata": {
        "id": "OtgBQ2fmzDAA"
      }
    },
    {
      "cell_type": "code",
      "source": [
        "noise = cv2.imread('processamento_imagens/imagens/noise.png')\n",
        "median = cv2.medianBlur(noise,21)\n",
        "\n",
        "plt.subplot(121),plt.imshow(noise),plt.title('Original')\n",
        "plt.xticks([]), plt.yticks([])\n",
        "plt.subplot(122),plt.imshow(median),plt.title('Filtered')\n",
        "plt.xticks([]), plt.yticks([])\n",
        "plt.show()"
      ],
      "metadata": {
        "id": "tl8IQv12zDqQ"
      },
      "execution_count": null,
      "outputs": []
    },
    {
      "cell_type": "markdown",
      "source": [
        "## 3. Gradients"
      ],
      "metadata": {
        "id": "1VwBXjr2zKj9"
      }
    },
    {
      "cell_type": "code",
      "source": [
        "dave = cv2.imread('processamento_imagens/imagens/dave.png',0)\n",
        "laplacian = cv2.Laplacian(dave,cv2.CV_64F)\n",
        "sobelx = cv2.Sobel(dave,cv2.CV_64F,1,0,ksize=5)\n",
        "sobely = cv2.Sobel(dave,cv2.CV_64F,0,1,ksize=5)\n",
        "\n",
        "fig, axes = plt.subplots(2, 2, figsize=(12, 8))\n",
        "ax = axes.ravel()\n",
        "\n",
        "ax[0].imshow(dave, cmap='gray')\n",
        "ax[0].set_title('Original')\n",
        "ax[0].set_axis_off()\n",
        "\n",
        "ax[1].imshow(laplacian, cmap='gray')\n",
        "ax[1].set_title('Laplacian')\n",
        "ax[1].set_axis_off()\n",
        "\n",
        "ax[2].imshow(sobelx, cmap='gray')\n",
        "ax[2].set_title('Sobel X')\n",
        "ax[2].set_axis_off()\n",
        "\n",
        "ax[3].imshow(sobely, cmap='gray')\n",
        "ax[3].set_title('Sobel Y')\n",
        "ax[3].set_axis_off()"
      ],
      "metadata": {
        "id": "jtVlxx1VzM4n"
      },
      "execution_count": null,
      "outputs": []
    },
    {
      "cell_type": "markdown",
      "source": [
        "## 4. Mathematical Morphology"
      ],
      "metadata": {
        "id": "DH7348_LzRYW"
      }
    },
    {
      "cell_type": "code",
      "source": [
        ""
      ],
      "metadata": {
        "id": "FCYsLaWBzT2B"
      },
      "execution_count": null,
      "outputs": []
    },
    {
      "cell_type": "code",
      "source": [
        ""
      ],
      "metadata": {
        "id": "N3VkMjwxzT8O"
      },
      "execution_count": null,
      "outputs": []
    }
  ]
}