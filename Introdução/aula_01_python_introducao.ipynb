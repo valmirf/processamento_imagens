{
  "nbformat": 4,
  "nbformat_minor": 0,
  "metadata": {
    "kernelspec": {
      "name": "python36",
      "display_name": "Python 3.6",
      "language": "python"
    },
    "language_info": {
      "mimetype": "text/x-python",
      "nbconvert_exporter": "python",
      "name": "python",
      "pygments_lexer": "ipython3",
      "version": "3.6.6",
      "file_extension": ".py",
      "codemirror_mode": {
        "version": 3,
        "name": "ipython"
      }
    },
    "colab": {
      "name": "aula_01_python_introducao.ipynb",
      "provenance": [],
      "include_colab_link": true
    }
  },
  "cells": [
    {
      "cell_type": "markdown",
      "metadata": {
        "id": "view-in-github",
        "colab_type": "text"
      },
      "source": [
        "<a href=\"https://colab.research.google.com/github/valmirf/processamento_imagens/blob/master/Introdu%C3%A7%C3%A3o/aula_01_python_introducao.ipynb\" target=\"_parent\"><img src=\"https://colab.research.google.com/assets/colab-badge.svg\" alt=\"Open In Colab\"/></a>"
      ]
    },
    {
      "cell_type": "code",
      "metadata": {
        "id": "QnbbmyPfkl3t"
      },
      "source": [
        "!git clone https://github.com/valmirf/processamento_imagens.git"
      ],
      "execution_count": null,
      "outputs": []
    },
    {
      "cell_type": "markdown",
      "metadata": {
        "collapsed": true,
        "id": "ke8xpUKFdLR1"
      },
      "source": [
        "# Introdução ao Python"
      ]
    },
    {
      "cell_type": "markdown",
      "metadata": {
        "id": "TwD-fk4bdLR5"
      },
      "source": [
        "## 1. Variáveis"
      ]
    },
    {
      "cell_type": "markdown",
      "metadata": {
        "id": "CF2BIwNIdLR8"
      },
      "source": [
        "Um nome que é usado para denotar algo ou um valor é chamado de variável. No python, variáveis ​​podem ser declaradas e valores podem ser atribuídos a ela da seguinte maneira,"
      ]
    },
    {
      "cell_type": "code",
      "metadata": {
        "trusted": true,
        "id": "bMP2ABMTdLR-"
      },
      "source": [
        "x = 2\n",
        "y = 5.2\n",
        "xy = 'Hey'\n",
        "print(type(x), type(y),type(xy))"
      ],
      "execution_count": null,
      "outputs": []
    },
    {
      "cell_type": "code",
      "metadata": {
        "trusted": true,
        "id": "KLl-pDNidLSG"
      },
      "source": [
        "print(x+y, xy)"
      ],
      "execution_count": null,
      "outputs": []
    },
    {
      "cell_type": "markdown",
      "metadata": {
        "id": "zQJfAhXAdLSM"
      },
      "source": [
        "Múltiplas variáveis podem ser atribuídas com o mesmo valor."
      ]
    },
    {
      "cell_type": "code",
      "metadata": {
        "trusted": true,
        "id": "UvSjfhdxdLSP"
      },
      "source": [
        "x , y = 1,2\n",
        "print(x, y)"
      ],
      "execution_count": null,
      "outputs": []
    },
    {
      "cell_type": "markdown",
      "metadata": {
        "id": "X62RK7k0dLSW"
      },
      "source": [
        "## 2. Operadores"
      ]
    },
    {
      "cell_type": "markdown",
      "metadata": {
        "id": "J7YG-GGqdLSZ"
      },
      "source": [
        "### 2.1 Operadores Aritméticos"
      ]
    },
    {
      "cell_type": "code",
      "metadata": {
        "trusted": true,
        "id": "fIsOL5HgdLSb"
      },
      "source": [
        "1+2 #adição"
      ],
      "execution_count": null,
      "outputs": []
    },
    {
      "cell_type": "code",
      "metadata": {
        "trusted": true,
        "id": "znlFzzYmdLSg"
      },
      "source": [
        "2-3 #subtração"
      ],
      "execution_count": null,
      "outputs": []
    },
    {
      "cell_type": "code",
      "metadata": {
        "trusted": true,
        "id": "ajeV2RRvdLSl"
      },
      "source": [
        "2*5 #Multiplicação"
      ],
      "execution_count": null,
      "outputs": []
    },
    {
      "cell_type": "code",
      "metadata": {
        "trusted": true,
        "id": "oHaaLRR_dLSs"
      },
      "source": [
        "10/3 #divisão"
      ],
      "execution_count": null,
      "outputs": []
    },
    {
      "cell_type": "code",
      "metadata": {
        "trusted": true,
        "id": "lMo4TWRPdLSw"
      },
      "source": [
        "10//3 #Divisão inteira"
      ],
      "execution_count": null,
      "outputs": []
    },
    {
      "cell_type": "code",
      "metadata": {
        "trusted": true,
        "id": "tChIo4JEdLS2"
      },
      "source": [
        "10%7 #modulo"
      ],
      "execution_count": null,
      "outputs": []
    },
    {
      "cell_type": "code",
      "metadata": {
        "trusted": true,
        "id": "kJWjA9QcdLS8"
      },
      "source": [
        "4**(1/2) #Potencia"
      ],
      "execution_count": null,
      "outputs": []
    },
    {
      "cell_type": "markdown",
      "metadata": {
        "trusted": true,
        "id": "X1MlYpBFdLTC"
      },
      "source": [
        "### 2.2 Operadores Relacionais"
      ]
    },
    {
      "cell_type": "code",
      "metadata": {
        "trusted": true,
        "id": "RLSe9a7WdLTD"
      },
      "source": [
        "Z = 1\n",
        "Z == 1 #Igual a"
      ],
      "execution_count": null,
      "outputs": []
    },
    {
      "cell_type": "code",
      "metadata": {
        "trusted": true,
        "id": "-ATTrK2ZdLTK"
      },
      "source": [
        "Z != 1 #Diferente de"
      ],
      "execution_count": null,
      "outputs": []
    },
    {
      "cell_type": "code",
      "metadata": {
        "trusted": true,
        "id": "Zk5msQr0dLTQ"
      },
      "source": [
        "Z < 0 #Menor que"
      ],
      "execution_count": null,
      "outputs": []
    },
    {
      "cell_type": "code",
      "metadata": {
        "trusted": true,
        "id": "PxMrBclvdLTV"
      },
      "source": [
        "Z > 0 #Maior que"
      ],
      "execution_count": null,
      "outputs": []
    },
    {
      "cell_type": "code",
      "metadata": {
        "trusted": true,
        "id": "3fznFLOndLTZ"
      },
      "source": [
        "Z <= 1 #Menor ou igual a "
      ],
      "execution_count": null,
      "outputs": []
    },
    {
      "cell_type": "code",
      "metadata": {
        "trusted": true,
        "id": "8uX3mSmQdLTe"
      },
      "source": [
        "Z >= 1 #Maior ou igual a"
      ],
      "execution_count": null,
      "outputs": []
    },
    {
      "cell_type": "markdown",
      "metadata": {
        "id": "GGnqj2v6dLTi"
      },
      "source": [
        "## 3. Tipos de dados básicos"
      ]
    },
    {
      "cell_type": "markdown",
      "metadata": {
        "id": "yegcNUtfdLTk"
      },
      "source": [
        "### 3.1 Números"
      ]
    },
    {
      "cell_type": "markdown",
      "metadata": {
        "id": "3KvU08ZVdLTm"
      },
      "source": [
        "inteiros e flutuantes funcionam como você esperaria de outras linguagens:"
      ]
    },
    {
      "cell_type": "code",
      "metadata": {
        "trusted": true,
        "id": "zxb_eiabdLTn"
      },
      "source": [
        "x = 3\n",
        "print(x, type(x))"
      ],
      "execution_count": null,
      "outputs": []
    },
    {
      "cell_type": "code",
      "metadata": {
        "trusted": true,
        "id": "WpzXGUspdLTq"
      },
      "source": [
        "print(x + 1)   # Addition;\n",
        "print(x - 1)   # Subtraction;\n",
        "print(x * 2)   # Multiplication;\n",
        "print(x ** 2)  # Exponentiation;"
      ],
      "execution_count": null,
      "outputs": []
    },
    {
      "cell_type": "code",
      "metadata": {
        "trusted": true,
        "id": "1Go9SgP_dLTw"
      },
      "source": [
        "x += 1\n",
        "print(x)  # Prints \"4\"\n",
        "x *= 2\n",
        "print(x)  # Prints \"8\""
      ],
      "execution_count": null,
      "outputs": []
    },
    {
      "cell_type": "markdown",
      "metadata": {
        "id": "DG9cR72_dLT3"
      },
      "source": [
        "Obs.: O Python não possui operadores de incremento unário (x ++) ou decremento (x--)."
      ]
    },
    {
      "cell_type": "markdown",
      "metadata": {
        "id": "mHgGzAXNdLT4"
      },
      "source": [
        "### 3.2 Boleano"
      ]
    },
    {
      "cell_type": "markdown",
      "metadata": {
        "id": "T7lUOKBpdLT5"
      },
      "source": [
        "O Python implementa todos os operadores usuais da lógica booleana, mas usa palavras inglesas em vez de símbolos (&&, ||, etc.):"
      ]
    },
    {
      "cell_type": "code",
      "metadata": {
        "trusted": true,
        "id": "dsGApgw9dLT7"
      },
      "source": [
        "t, f = True, False\n",
        "print(type(t)) # Prints \"<type 'bool'>\""
      ],
      "execution_count": null,
      "outputs": []
    },
    {
      "cell_type": "markdown",
      "metadata": {
        "id": "4biu3Iy8dLT_"
      },
      "source": [
        "Operações"
      ]
    },
    {
      "cell_type": "code",
      "metadata": {
        "trusted": true,
        "id": "ASeiYO8sdLUA"
      },
      "source": [
        "print(t and f) # Logical AND;\n",
        "print(t or f)  # Logical OR;\n",
        "print(not t)   # Logical NOT;\n",
        "print(t != f)  # Logical XOR;"
      ],
      "execution_count": null,
      "outputs": []
    },
    {
      "cell_type": "markdown",
      "metadata": {
        "id": "0sfdJ_zydLUG"
      },
      "source": [
        "### 3.3 String"
      ]
    },
    {
      "cell_type": "code",
      "metadata": {
        "trusted": true,
        "id": "TZadAnwldLUG"
      },
      "source": [
        "hello = 'hello'   # String literals can use single quotes\n",
        "world = \"world\"   # or double quotes; it does not matter.\n",
        "print(hello, len(hello))\n",
        "print(hello[0:4])"
      ],
      "execution_count": null,
      "outputs": []
    },
    {
      "cell_type": "markdown",
      "metadata": {
        "id": "d4oehDLHdLUK"
      },
      "source": [
        "## 4. Estrutura de dados"
      ]
    },
    {
      "cell_type": "markdown",
      "metadata": {
        "id": "Nus4HRwwdLUM"
      },
      "source": [
        "### 4.1 Listas"
      ]
    },
    {
      "cell_type": "code",
      "metadata": {
        "trusted": true,
        "id": "8c2-e33_dLUM"
      },
      "source": [
        "xs = [3, 1, 2]   # Create a list\n",
        "print(xs, xs[2])\n",
        "print(xs[-1])     # Negative indices count from the end of the list; prints \"2\""
      ],
      "execution_count": null,
      "outputs": []
    },
    {
      "cell_type": "code",
      "metadata": {
        "trusted": true,
        "id": "n7ixUUwUdLUR"
      },
      "source": [
        "print(len(xs)) #número de elementos na lista"
      ],
      "execution_count": null,
      "outputs": []
    },
    {
      "cell_type": "code",
      "metadata": {
        "trusted": true,
        "scrolled": true,
        "id": "whhbiYuJdLUW"
      },
      "source": [
        "xs[2] = 'foo'    # Lists can contain elements of different types\n",
        "print(xs)"
      ],
      "execution_count": null,
      "outputs": []
    },
    {
      "cell_type": "code",
      "metadata": {
        "trusted": true,
        "id": "buXON0efdLUZ"
      },
      "source": [
        "xs.append('bar') # Add a new element to the end of the list\n",
        "print(xs)  "
      ],
      "execution_count": null,
      "outputs": []
    },
    {
      "cell_type": "code",
      "metadata": {
        "trusted": true,
        "id": "rHOSNQQpdLUd"
      },
      "source": [
        "x = xs.pop()     # Remove and return the last element of the list\n",
        "print(x, xs )"
      ],
      "execution_count": null,
      "outputs": []
    },
    {
      "cell_type": "code",
      "metadata": {
        "trusted": true,
        "id": "ZzU5HFPGdLUg"
      },
      "source": [
        "lista1 = [1,3,5,6,5,4,3]\n",
        "print(sum(lista1))"
      ],
      "execution_count": null,
      "outputs": []
    },
    {
      "cell_type": "code",
      "metadata": {
        "trusted": true,
        "id": "_3N8b_hYdLUj"
      },
      "source": [
        "lista1.remove(3) #remove a primeira ocorrência da lista\n",
        "print(lista1)"
      ],
      "execution_count": null,
      "outputs": []
    },
    {
      "cell_type": "code",
      "metadata": {
        "trusted": true,
        "id": "LDZwVYwfdLUl"
      },
      "source": [
        "print(lista1.count(5)) #Retorna o número de ocorrência"
      ],
      "execution_count": null,
      "outputs": []
    },
    {
      "cell_type": "code",
      "metadata": {
        "trusted": true,
        "id": "ljVZGpKldLUo"
      },
      "source": [
        "4 in lista1"
      ],
      "execution_count": null,
      "outputs": []
    },
    {
      "cell_type": "code",
      "metadata": {
        "id": "7F1jxRVSST1D"
      },
      "source": [
        "lista1.clear()  #remove todos os elementos da lista"
      ],
      "execution_count": null,
      "outputs": []
    },
    {
      "cell_type": "markdown",
      "metadata": {
        "id": "tZ2QMlDmdLUq"
      },
      "source": [
        "### 4.2 Dicionários"
      ]
    },
    {
      "cell_type": "code",
      "metadata": {
        "trusted": true,
        "id": "czhRC3bRdLUr"
      },
      "source": [
        "d = {'cat': 'cute', 'dog': 'furry'}  # Create a new dictionary with some data\n",
        "print(d['cat'])       # Get an entry from a dictionary; prints \"cute\"\n",
        "print('cat' in d)     # Check if a dictionary has a given key; prints \"True\""
      ],
      "execution_count": null,
      "outputs": []
    },
    {
      "cell_type": "markdown",
      "metadata": {
        "id": "e4fSVsqmdLUu"
      },
      "source": [
        "### 4.3 Tuplas"
      ]
    },
    {
      "cell_type": "markdown",
      "metadata": {
        "id": "ojdt0KU4dLUv"
      },
      "source": [
        "Uma tupla é uma lista ordenada (imutável) de valores. Uma tupla é, em muitos aspectos, semelhante a uma lista; Uma das diferenças mais importantes é que as tuplas podem ser usadas como chaves em dicionários e como elementos de conjuntos, enquanto as listas não podem. Aqui está um exemplo trivial:"
      ]
    },
    {
      "cell_type": "code",
      "metadata": {
        "trusted": true,
        "id": "Fq2CWvJadLUx"
      },
      "source": [
        "d = {(x, x + 1): x for x in range(10)}  # Create a dictionary with tuple keys\n",
        "t = (5, 6)       # Create a tuple\n",
        "print(type(t))\n",
        "print(d[t]) \n",
        "print(d[(1, 2)])"
      ],
      "execution_count": null,
      "outputs": []
    },
    {
      "cell_type": "code",
      "metadata": {
        "trusted": true,
        "id": "G6Q2F34IdLU0"
      },
      "source": [
        "e = 4\n",
        "t = (1,2,e)"
      ],
      "execution_count": null,
      "outputs": []
    },
    {
      "cell_type": "markdown",
      "metadata": {
        "id": "HzkeVdiDdLU9"
      },
      "source": [
        "## 5. Estruturas de condição e repetição"
      ]
    },
    {
      "cell_type": "markdown",
      "metadata": {
        "id": "AznouuRSdLU_"
      },
      "source": [
        "### 5.1 If e else"
      ]
    },
    {
      "cell_type": "code",
      "metadata": {
        "trusted": true,
        "id": "W8SgXyFedLVA"
      },
      "source": [
        "a, b = 1, 2\n",
        "if a > b:\n",
        "    print(str(a)+' é maior que '+str(b))\n",
        "elif a < b:\n",
        "    print(str(a)+' é menor que '+str(b))\n",
        "else:\n",
        "    print(str(a)+' é igual a '+str(b))"
      ],
      "execution_count": null,
      "outputs": []
    },
    {
      "cell_type": "markdown",
      "metadata": {
        "id": "yZ9XLV4udLVE"
      },
      "source": [
        "### 5.2 Loops"
      ]
    },
    {
      "cell_type": "code",
      "metadata": {
        "trusted": true,
        "id": "L5JEDgH_dLVF"
      },
      "source": [
        "animals = ['cat', 'dog', 'monkey']\n",
        "for animal in animals:\n",
        "    print(animal)"
      ],
      "execution_count": null,
      "outputs": []
    },
    {
      "cell_type": "code",
      "metadata": {
        "trusted": true,
        "id": "1BNdLhCjdLVK"
      },
      "source": [
        "print(list(range(3)))#retorna uma série numérica no intervalo enviado como argumento.\n",
        "print(list(range(3,5)))"
      ],
      "execution_count": null,
      "outputs": []
    },
    {
      "cell_type": "code",
      "metadata": {
        "trusted": true,
        "id": "6J_spD-9dLVO"
      },
      "source": [
        "for i in range(len(animals)):\n",
        "    print(i, animals[i])"
      ],
      "execution_count": null,
      "outputs": []
    },
    {
      "cell_type": "code",
      "metadata": {
        "trusted": true,
        "id": "f7z7BMJtdLVR"
      },
      "source": [
        "conta = 8\n",
        "while(conta <= 10):\n",
        "    print(conta)\n",
        "    conta+=1"
      ],
      "execution_count": null,
      "outputs": []
    },
    {
      "cell_type": "markdown",
      "metadata": {
        "id": "22-3eXhIdLVU"
      },
      "source": [
        "## 6. Funções"
      ]
    },
    {
      "cell_type": "code",
      "metadata": {
        "trusted": true,
        "id": "7jjFnkgodLVW"
      },
      "source": [
        "def hello(name, loud=False):\n",
        "    if loud:\n",
        "        print('HELLO, %s' % name.upper())\n",
        "    else:\n",
        "        #print('Hello, %s!' % name)\n",
        "        return 'Hello, %s!' % name\n",
        "\n",
        "hello('Bob')\n",
        "hello('Fred', loud=True)"
      ],
      "execution_count": null,
      "outputs": []
    },
    {
      "cell_type": "markdown",
      "metadata": {
        "id": "BTzTLFpEdLVa"
      },
      "source": [
        "## 7. Numpy"
      ]
    },
    {
      "cell_type": "markdown",
      "metadata": {
        "id": "PD0TY445dLVa"
      },
      "source": [
        "Numpy é a biblioteca central para computação científica em Python. Ele fornece um objeto de matriz multidimensional de alto desempenho e ferramentas para trabalhar com essas matrizes.\n",
        "Para usar o Numpy, primeiro precisamos importar o pacote numpy:"
      ]
    },
    {
      "cell_type": "code",
      "metadata": {
        "trusted": true,
        "id": "r70lWErAdLVb"
      },
      "source": [
        "import numpy as np"
      ],
      "execution_count": null,
      "outputs": []
    },
    {
      "cell_type": "markdown",
      "metadata": {
        "id": "lzdqAI7EdLVf"
      },
      "source": [
        "### 7.1 Arrays"
      ]
    },
    {
      "cell_type": "code",
      "metadata": {
        "trusted": true,
        "id": "B5H1NsTIdLVf"
      },
      "source": [
        "a = np.array([1, 2, 3])  # Create a rank 1 array\n",
        "print(type(a), a.shape, a[0], a[1], a[2])\n",
        "a[0] = 5                 # Change an element of the array\n",
        "print(a)  "
      ],
      "execution_count": null,
      "outputs": []
    },
    {
      "cell_type": "code",
      "metadata": {
        "trusted": true,
        "id": "Vuqa_txAdLVg"
      },
      "source": [
        "b = np.array([[1,2,3],[4,5,6]])   # Create a rank 2 array\n",
        "print(b)"
      ],
      "execution_count": null,
      "outputs": []
    },
    {
      "cell_type": "code",
      "metadata": {
        "trusted": true,
        "id": "Az4feU2MdLVj"
      },
      "source": [
        "a = np.zeros((2,2))  # Create an array of all zeros\n",
        "print(a)"
      ],
      "execution_count": null,
      "outputs": []
    },
    {
      "cell_type": "code",
      "metadata": {
        "trusted": true,
        "id": "fpYbKM7fdLVl"
      },
      "source": [
        "b = np.ones((3,2))   # Create an array of all ones\n",
        "print(b)"
      ],
      "execution_count": null,
      "outputs": []
    },
    {
      "cell_type": "code",
      "metadata": {
        "trusted": true,
        "id": "6nesNJ_EdLVo"
      },
      "source": [
        "c = np.full((2,2), 7) # Create a constant array\n",
        "print(c) "
      ],
      "execution_count": null,
      "outputs": []
    },
    {
      "cell_type": "code",
      "metadata": {
        "trusted": true,
        "id": "mtArJ7V0dLVq"
      },
      "source": [
        "d = np.eye(2)        # Create a 2x2 identity matrix\n",
        "print(d)"
      ],
      "execution_count": null,
      "outputs": []
    },
    {
      "cell_type": "code",
      "metadata": {
        "trusted": true,
        "id": "ON4aW5hAdLVs"
      },
      "source": [
        "e = np.random.random((2,2)) # Create an array filled with random values\n",
        "print(e)"
      ],
      "execution_count": null,
      "outputs": []
    },
    {
      "cell_type": "code",
      "metadata": {
        "trusted": true,
        "id": "Dit3r0ixdLVz"
      },
      "source": [
        "# Create the following rank 2 array with shape (3, 4)\n",
        "# [[ 1  2  3  4]\n",
        "#  [ 5  6  7  8]\n",
        "#  [ 9 10 11 12]]\n",
        "a = np.array([[1,2,3,4], [5,6,7,8], [9,10,11,12]])\n",
        "\n",
        "# Use slicing to pull out the subarray consisting of the first 2 rows\n",
        "# and columns 1 and 2; b is the following array of shape (2, 2):\n",
        "# [[2 3]\n",
        "#  [6 7]]\n",
        "b = a[:2, 1:3]\n",
        "print(b)"
      ],
      "execution_count": null,
      "outputs": []
    },
    {
      "cell_type": "code",
      "metadata": {
        "trusted": true,
        "id": "uTRygiN1dLV1"
      },
      "source": [
        "f = np.arange(3)\n",
        "g = np.arange(3,7)\n",
        "print(f)\n",
        "print(g)"
      ],
      "execution_count": null,
      "outputs": []
    },
    {
      "cell_type": "markdown",
      "metadata": {
        "id": "P7vBXcrWdLV4"
      },
      "source": [
        "### 7.2 Datatypes"
      ]
    },
    {
      "cell_type": "markdown",
      "metadata": {
        "id": "vMSseVuGdLV5"
      },
      "source": [
        "Cada matriz numpy é uma grade de elementos do mesmo tipo. Numpy fornece um grande conjunto de tipos de dados numéricos que você pode usar para construir matrizes. Numpy tenta adivinhar um tipo de dados quando você cria uma matriz, mas funções que constroem matrizes geralmente também incluem um argumento opcional para especificar explicitamente o tipo de dados. Aqui está um exemplo:"
      ]
    },
    {
      "cell_type": "code",
      "metadata": {
        "trusted": true,
        "id": "HIFwLBD2dLV5"
      },
      "source": [
        "x = np.array([1, 2])  # Let numpy choose the datatype\n",
        "y = np.array([1.0, 2.0])  # Let numpy choose the datatype\n",
        "z = np.array([1, 2], dtype=np.int64)  # Force a particular datatype\n",
        "w = np.array([1, 2], dtype=np.uint8)\n",
        "print(x.dtype, y.dtype, z.dtype, w.dtype)"
      ],
      "execution_count": null,
      "outputs": []
    },
    {
      "cell_type": "markdown",
      "metadata": {
        "id": "O3t5WhnwdLV7"
      },
      "source": [
        "### 7.3 Soma"
      ]
    },
    {
      "cell_type": "code",
      "metadata": {
        "trusted": true,
        "id": "w5UC6xZgdLV8"
      },
      "source": [
        "y = np.array([1,2,3])\n",
        "x = np.array([[1,2],[3,4]])\n",
        "print(np.sum(y))\n",
        "print(np.sum(x))  # Compute sum of all elements; prints \"10\"\n",
        "print(np.sum(x, axis=0))  # Compute sum of each column; prints \"[4 6]\"\n",
        "print(np.sum(x, axis=1))  # Compute sum of each row; prints \"[3 7]\""
      ],
      "execution_count": null,
      "outputs": []
    },
    {
      "cell_type": "markdown",
      "metadata": {
        "id": "cnQwQ2E-dLV_"
      },
      "source": [
        "## 8. Matplotlib"
      ]
    },
    {
      "cell_type": "code",
      "metadata": {
        "trusted": true,
        "id": "-adO4-wFdLV_"
      },
      "source": [
        "%matplotlib inline\n",
        "import matplotlib.pyplot as plt\n",
        " \n",
        "\n",
        "# Compute the x and y coordinates for points on a sine curve\n",
        "x = np.arange(0, 3 * np.pi, 0.1)\n",
        "y = np.sin(x)\n",
        "\n",
        "# Plot the points using matplotlib\n",
        "plt.plot(x, y)"
      ],
      "execution_count": null,
      "outputs": []
    },
    {
      "cell_type": "markdown",
      "metadata": {
        "id": "IQQqlrwndLWC"
      },
      "source": [
        "## 9. Opencv"
      ]
    },
    {
      "cell_type": "code",
      "metadata": {
        "trusted": true,
        "id": "G5_188hadLWD"
      },
      "source": [
        "import cv2 # OpenCV-Python"
      ],
      "execution_count": null,
      "outputs": []
    },
    {
      "cell_type": "markdown",
      "metadata": {
        "id": "un6BiVOIdLWF"
      },
      "source": [
        "### 9.1 Lendo e escrevendo imagens"
      ]
    },
    {
      "cell_type": "code",
      "metadata": {
        "trusted": true,
        "id": "SRcHlWSWdLWH"
      },
      "source": [
        "img = cv2.imread('processamento_imagens/imagens/varig747.jpg') #Lendo uma imagem\n",
        "print(img.shape)\n",
        "\n",
        "plt.figure(figsize=(6, 6), dpi= 80, facecolor='w', edgecolor='k')\n",
        "plt.axis(\"off\")\n",
        "imgColor = cv2.cvtColor(img, cv2.COLOR_BGR2RGB) #Conversão necessária para protar a imagem, devido ao opencv usa o \n",
        "                                                 #formato RGB, enquanto o matplotlib usa BGR\n",
        "plt.imshow(imgColor)  \n"
      ],
      "execution_count": null,
      "outputs": []
    },
    {
      "cell_type": "code",
      "metadata": {
        "trusted": true,
        "id": "q7RRYjppdLWJ"
      },
      "source": [
        "varig_gray = cv2.cvtColor(img, cv2.COLOR_BGR2GRAY)\n",
        "print(varig_gray.shape)\n",
        "plt.imshow(varig_gray, cmap='gray') \n",
        "\n",
        "cv2.imwrite('varig_gray.jpg', varig_gray) #salva uma imagem no caminho especificado"
      ],
      "execution_count": null,
      "outputs": []
    },
    {
      "cell_type": "markdown",
      "metadata": {
        "id": "CBmjEau_dLWM"
      },
      "source": [
        "*italicized text*### 9.2 Histograma da imagem"
      ]
    },
    {
      "cell_type": "markdown",
      "metadata": {
        "id": "6Fn8tZ7VdLWd"
      },
      "source": [
        "### 9.2 Algumas coisas úteis"
      ]
    },
    {
      "cell_type": "markdown",
      "metadata": {
        "id": "NqxkK_RpdLWl"
      },
      "source": [
        "# #### 9.2.1 Criando uma imagem com numpy"
      ]
    },
    {
      "cell_type": "code",
      "metadata": {
        "trusted": true,
        "id": "T8pZwvQLdLWm"
      },
      "source": [
        "# Create a black image\n",
        "img2 = np.zeros((512,512,3), np.uint8)\n",
        "plt.imshow(img2)"
      ],
      "execution_count": null,
      "outputs": []
    },
    {
      "cell_type": "code",
      "metadata": {
        "trusted": true,
        "id": "uNCAEidkdLWn"
      },
      "source": [
        "print(img2.shape)\n",
        "img2[:200, :200] = [255,0,160]\n",
        "img3 = cv2.cvtColor(img2, cv2.COLOR_BGR2RGB)\n",
        "plt.imshow(img3)"
      ],
      "execution_count": null,
      "outputs": []
    },
    {
      "cell_type": "markdown",
      "metadata": {
        "id": "POz13436dLWq"
      },
      "source": [
        "#### 9.2.2 Separando Canais"
      ]
    },
    {
      "cell_type": "markdown",
      "metadata": {
        "id": "sZvMRnIhdLWq"
      },
      "source": [
        "OBS.: Para unir novamente os canais use \"img = cv2.merge((b,g,r))\""
      ]
    },
    {
      "cell_type": "code",
      "metadata": {
        "trusted": true,
        "id": "YTo6KmcwdLWr"
      },
      "source": [
        "b, g, r = cv2.split(imgColor)\n",
        "fig, axes = plt.subplots(1, 3, figsize=(10, 5))\n",
        "ax = axes.ravel()\n",
        "\n",
        "ax[0].imshow(r, cmap='Reds')\n",
        "ax[0].set_title('R')\n",
        "ax[0].set_axis_off()\n",
        "\n",
        "ax[1].imshow(g, cmap='Greens')\n",
        "ax[1].set_title('G')\n",
        "ax[1].set_axis_off()\n",
        "\n",
        "ax[2].imshow(b, cmap='Blues')\n",
        "ax[2].set_title('B')\n",
        "ax[2].set_axis_off()"
      ],
      "execution_count": null,
      "outputs": []
    },
    {
      "cell_type": "code",
      "metadata": {
        "trusted": true,
        "id": "pYrJicnidLWv"
      },
      "source": [
        ""
      ],
      "execution_count": null,
      "outputs": []
    }
  ]
}